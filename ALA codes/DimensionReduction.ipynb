{
  "nbformat": 4,
  "nbformat_minor": 0,
  "metadata": {
    "colab": {
      "provenance": []
    },
    "kernelspec": {
      "name": "python3",
      "display_name": "Python 3"
    }
  },
  "cells": [
    {
      "cell_type": "markdown",
      "source": [
        "---\n",
        "\n",
        "**Load essential libraries**\n",
        "\n",
        "---"
      ],
      "metadata": {
        "id": "C0o-zgcznSo2"
      }
    },
    {
      "cell_type": "code",
      "metadata": {
        "id": "9bXubpvoUUTn"
      },
      "source": [
        "import pandas as pd\n",
        "import numpy as np\n",
        "import sys\n",
        "from scipy import linalg\n",
        "\n",
        "import matplotlib.pyplot as plt\n",
        "import matplotlib.cm as cm\n",
        "plt.style.use('seaborn-whitegrid')\n",
        "%matplotlib inline\n",
        "\n",
        "from sklearn.decomposition import PCA\n",
        "\n",
        "from sklearn.preprocessing import StandardScaler, RobustScaler\n",
        "from sklearn.datasets import make_blobs\n",
        "\n",
        "from scipy.sparse import random\n",
        "from scipy import stats"
      ],
      "execution_count": null,
      "outputs": []
    },
    {
      "cell_type": "markdown",
      "source": [
        "---\n",
        "\n",
        "**The following code cell mounts the Google Drive folder for accessing data etc.**\n",
        "\n",
        "---"
      ],
      "metadata": {
        "id": "EGzvIEJknYAd"
      }
    },
    {
      "cell_type": "code",
      "metadata": {
        "id": "4-QDMWggVk1A"
      },
      "source": [
        "## Mount Google drive folder if running in Colab\n",
        "if('google.colab' in sys.modules):\n",
        "    from google.colab import drive\n",
        "    drive.mount('/content/drive', force_remount = True)\n",
        "    # Change path below starting from /content/drive/MyDrive/Colab Notebooks/\n",
        "    # depending on how data is organized inside your Colab Notebooks folder in\n",
        "    # Google Drive\n",
        "    DIR = '/content/drive/MyDrive/Colab Notebooks/MAHE/Workshops/Applied Machine Learning Workshop Canara Engineering College_August2023'\n",
        "    DATA_DIR = DIR+'/Data/'\n",
        "else:\n",
        "    DATA_DIR = 'Data/'"
      ],
      "execution_count": null,
      "outputs": []
    },
    {
      "cell_type": "markdown",
      "source": [
        "**Data Matrix**\n",
        "\n",
        "Patient dataset corresponding to 4 patients and 3 features:\n",
        "\n",
        "![Patient dataset](https://bl3302files.storage.live.com/y4mlspYO-L_1kEGpBOCUilkrcj3evQtgjGXDt6v2NgJwtsJf2OZVnwRnUht7CmW_wk8VMlMyGfhDqgRubB3pLHXAOe3r-pQ5wtYUuOqR_gsZzHWCqE2IEbhBjUZob5suLplmONyMsAjr1twDPK7eGODrKyav1dP1aX3lWx1YV0hiLvuTEZ7-GujIypTMkaSV2or?width=256&height=153&cropmode=none)"
      ],
      "metadata": {
        "id": "2Nwtpcbfn3Tz"
      }
    },
    {
      "cell_type": "code",
      "source": [
        "## Create patient data matrix\n",
        "df_patient = pd.DataFrame({'HR' : [76, 74, 72, 78],\n",
        "                           'BP' : [126, 120, 118, 136],\n",
        "                           'Temp': [38, 38, 37.5, 37]})\n",
        "\n",
        "print(df_patient)\n",
        "#df_patient.shape\n",
        "#df_patient.head()\n",
        "print('----------')\n",
        "A = np.array(df_patient)\n",
        "print(A)"
      ],
      "metadata": {
        "id": "Odjnvd1mn390"
      },
      "execution_count": null,
      "outputs": []
    },
    {
      "cell_type": "markdown",
      "source": [
        "\n",
        "---\n",
        "\n",
        "**Dot Product of Vectors**\n",
        "\n",
        "A scalar resulting from an elementwise multiplication and addition: $$a{\\color{cyan}\\cdot}b = {\\color{red}{a_1b_1}}+{\\color{green}{a_2b_2}}+\\cdots+{\\color{magenta}{a_nb_n}}$$\n",
        "\n",
        "The <font color=\"cyan\">dot</font> ${\\color{cyan}\\cdot}$ represents the computation of the dot product.\n",
        "\n",
        "---"
      ],
      "metadata": {
        "id": "YT-etkK_nkcb"
      }
    },
    {
      "cell_type": "code",
      "source": [
        "# Unit vectors\n",
        "e_1 = np.array([1, 0, 0, 0])\n",
        "e_3 = np.array([0, 0, 1, 0])\n",
        "\n",
        "# Ones vector\n",
        "o = np.array([1, 1, 1, 1])\n",
        "\n",
        "# Vector for 1st feature (heart rate)\n",
        "a_1 = A[:, 0]\n",
        "\n",
        "# Get 1st component of vector (heart rate for 1st patient)\n",
        "print(a_1[0])\n",
        "print(np.dot(a_1, e_1))\n",
        "print(np.dot(e_1, a_1))\n",
        "\n",
        "# Get 3rd component of vector (heart rate for 3rd patient)\n",
        "print(np.dot(a_1, e_3))\n",
        "\n",
        "# Get sum of 1st feature values (heart rate) for all patients\n",
        "print(np.sum(a_1))\n",
        "print(np.dot(a_1, o))\n",
        "\n",
        "# Average of 1st feature values (heart rate)\n",
        "print((1/len(a_1)) * np.dot(a_1, o))\n",
        "print(np.mean(a_1))"
      ],
      "metadata": {
        "id": "tVPMORxbnn-M"
      },
      "execution_count": null,
      "outputs": []
    },
    {
      "cell_type": "markdown",
      "source": [
        "---\n",
        "\n",
        "**Cauchy-Schwarz inequality**\n",
        "\n",
        "For any two $n$-vectors $a,b,$ it is always true that $$-1\\leq\\frac{a\\cdot b}{\\lVert a\\rVert\\lVert b\\rVert}\\leq 1.$$\n",
        "\n",
        "This is used to define the cosine of the angle between the vectors $a$ and $b$ as follows:$$\\cos(\\angle(a,b)) = \\frac{a\\cdot b}{\\lVert a\\rVert\\lVert b\\rVert}.$$\n",
        "\n",
        "---"
      ],
      "metadata": {
        "id": "Tx6WqvqJo-Zc"
      }
    },
    {
      "cell_type": "code",
      "source": [
        "## Simulate a patient dataset\n",
        "#np.random.seed(100)\n",
        "nsamples = 100\n",
        "df = pd.DataFrame({'Heart Rate (BPM)' : np.round(np.random.normal(74, 4, nsamples)),\n",
        "                   'Blood Pressure (mm Hg)' : np.round(np.random.normal(126, 8, nsamples))})\n",
        "print(df)"
      ],
      "metadata": {
        "id": "aAVASM6fo_oU"
      },
      "execution_count": null,
      "outputs": []
    },
    {
      "cell_type": "code",
      "source": [
        "# Vector of heart rate and blood pressure\n",
        "a = df['Heart Rate (BPM)']\n",
        "b = df['Blood Pressure (mm Hg)']\n",
        "print(np.dot(a, b)) # Dot-product between the original vectors do not reveal much\n",
        "print(np.dot(a, b) / (np.linalg.norm(a) * np.linalg.norm(b))) # Recall angle(a,b) acos(aT*b/(||a||*||b||))\n",
        "\n",
        "# Mean-centered heart rate and blood pressure vectors\n",
        "a_mc = a - np.mean(a)\n",
        "b_mc = b - np.mean(b)\n",
        "print(np.dot(a_mc, b_mc)) # Covariance between a and b\n",
        "print(np.dot(a_mc, b_mc) / (np.linalg.norm(a_mc) * np.linalg.norm(b_mc))) # Correlation coefficient\n",
        "\n",
        "fig, ax = plt.subplots(1)\n",
        "ax.scatter(a, b, marker = 'o', color = 'blue')\n",
        "ax.set_xlabel('Heart Rate (BPM)')\n",
        "ax.set_ylabel('Blood Pressure (mm Hg')\n",
        "ax.set_title('Heart Rate vs. Blood Pressure')\n",
        "ax.set_xlim([0, np.max(a)])\n",
        "ax.set_ylim([0, np.max(b)])"
      ],
      "metadata": {
        "id": "_V2iYc7LpUbh"
      },
      "execution_count": null,
      "outputs": []
    },
    {
      "cell_type": "markdown",
      "source": [
        "**Projection of vectors and its relationship to dot product**\n",
        "\n",
        "![Vector projection](https://bl3302files.storage.live.com/y4miuCtKP9ptv6lIB8EqEU_u7cbEydy0UsEgHl4ECni2UVONtvKZgf73pIQ4vuA99ZHP8K96W_1i-QuhSIN12IudLaUTF3_jZzFqVfsaRK7QubMS9p5C1ErN6tB8I_UqQZnSY2JSGnu0IvJQrRcd2rX2Hzngfka3tCqJhbAMdElywcis2gRaoiuEGDVqaXpZYYp?width=256&height=209&cropmode=none)"
      ],
      "metadata": {
        "id": "C6xSd4hyr0ti"
      }
    },
    {
      "cell_type": "code",
      "source": [
        "np.mean((a-np.mean(a))**2)"
      ],
      "metadata": {
        "id": "yajyVK_NjZx7"
      },
      "execution_count": null,
      "outputs": []
    },
    {
      "cell_type": "code",
      "source": [
        "np.sqrt(np.mean((a-np.mean(a))**2))"
      ],
      "metadata": {
        "id": "A1Q2DQUpkGum"
      },
      "execution_count": null,
      "outputs": []
    },
    {
      "cell_type": "code",
      "source": [
        "print(np.dot(A[0, :], v) / np.linalg.norm(v))\n",
        "print(np.dot(A[1, :], v) / np.linalg.norm(v))\n",
        "print(np.dot(A[2, :], v) / np.linalg.norm(v))\n",
        "print(np.dot(A[3, :], v) / np.linalg.norm(v))"
      ],
      "metadata": {
        "id": "XlmMiSOso6cq"
      },
      "execution_count": null,
      "outputs": []
    },
    {
      "cell_type": "code",
      "source": [
        "np.dot(A, v)/np.linalg.norm(v)"
      ],
      "metadata": {
        "id": "sKo2V2pqpmt2"
      },
      "execution_count": null,
      "outputs": []
    },
    {
      "cell_type": "code",
      "source": [
        "## Scalar projection of first patient onto a direction v\n",
        "v = np.array([1, 0, 0])\n",
        "print(np.dot(A[0], v) / np.linalg.norm(v))\n",
        "v = np.array([0, 1, 0])\n",
        "print(np.dot(A[0], v) / np.linalg.norm(v))\n",
        "v = np.array([1, 1, 1])\n",
        "print(np.dot(A[0], v) / np.linalg.norm(v))\n",
        "v = np.array([-1, -1, -1])\n",
        "print(np.dot(A[0], v) / np.linalg.norm(v))"
      ],
      "metadata": {
        "id": "ODKXD_zEVYf4"
      },
      "execution_count": null,
      "outputs": []
    },
    {
      "cell_type": "code",
      "source": [
        "## Scalar projection of all patients onto a direction v\n",
        "v = np.array([1, 0, 0])\n",
        "print((1/np.linalg.norm(v)) * np.dot(A, v))\n",
        "v = np.array([0, 1, 0])\n",
        "print((1/np.linalg.norm(v)) * np.dot(A, v))\n",
        "v = np.array([1, 1, 1])\n",
        "print((1/np.linalg.norm(v)) * np.dot(A, v))\n",
        "v = np.array([-1, -1, -1])\n",
        "print((1/np.linalg.norm(v)) * np.dot(A, v))"
      ],
      "metadata": {
        "id": "hGzRCudzWrjk"
      },
      "execution_count": null,
      "outputs": []
    },
    {
      "cell_type": "markdown",
      "source": [
        "---\n",
        "\n",
        "Load food-texture data\n",
        "\n",
        "---"
      ],
      "metadata": {
        "id": "wAW4l69QsTza"
      }
    },
    {
      "cell_type": "code",
      "source": [
        "## Load data\n",
        "FILE = DATA_DIR + 'food-texture.csv'\n",
        "df_food = pd.read_csv(FILE, index_col = 0)\n",
        "df_food.head()"
      ],
      "metadata": {
        "id": "Io6fXPHqsNFJ"
      },
      "execution_count": null,
      "outputs": []
    },
    {
      "cell_type": "code",
      "source": [
        "## Print the names of the rows & columns in the dataframe\n",
        "print(df_food.index)\n",
        "print(df_food.columns)"
      ],
      "metadata": {
        "id": "f7lW45FMsYsw"
      },
      "execution_count": null,
      "outputs": []
    },
    {
      "cell_type": "code",
      "source": [
        "## Get values in the 'Density' column\n",
        "print(df_food['Density'])"
      ],
      "metadata": {
        "id": "9QMB0Sd_se6g"
      },
      "execution_count": null,
      "outputs": []
    },
    {
      "cell_type": "code",
      "source": [
        "## Get features for the sample B136\n",
        "print(df_food.loc['B136', :])"
      ],
      "metadata": {
        "id": "N7b5i4plshwn"
      },
      "execution_count": null,
      "outputs": []
    },
    {
      "cell_type": "code",
      "source": [
        "## Get 'Oil' and 'Density' values for the\n",
        "## samples B136 and B225\n",
        "feature_names = ['Oil', 'Density']\n",
        "sample_names = ['B136', 'B225']\n",
        "df_food.loc[sample_names, feature_names]"
      ],
      "metadata": {
        "id": "EHtb2jPdsnmK"
      },
      "execution_count": null,
      "outputs": []
    },
    {
      "cell_type": "code",
      "source": [
        "df_food.dtypes"
      ],
      "metadata": {
        "id": "CUchVFt1tAdc"
      },
      "execution_count": null,
      "outputs": []
    },
    {
      "cell_type": "code",
      "source": [
        "## Create a list of continuous and categorical column names\n",
        "continuous_cols = ['Oil', 'Density', 'Fracture', 'Hardness']\n",
        "categorical_cols = ['Crispy']\n",
        "\n",
        "# Typecasting\n",
        "df_food[categorical_cols] = df_food[categorical_cols].astype('category')\n",
        "df_food[continuous_cols] = df_food[continuous_cols].astype('float64')"
      ],
      "metadata": {
        "id": "99ebX4RCswUV"
      },
      "execution_count": null,
      "outputs": []
    },
    {
      "cell_type": "code",
      "source": [
        "## Print dataframe column types\n",
        "df_food.dtypes"
      ],
      "metadata": {
        "id": "mJn9_bz3s1jc"
      },
      "execution_count": null,
      "outputs": []
    },
    {
      "cell_type": "markdown",
      "source": [
        "---\n",
        "\n",
        "Principal component analysis (PCA) of the dataset\n",
        "\n",
        "---"
      ],
      "metadata": {
        "id": "AzO98OkKtunl"
      }
    },
    {
      "cell_type": "code",
      "source": [
        "np.array(df_food[continuous_cols])"
      ],
      "metadata": {
        "id": "hFvO9QAq_P4c"
      },
      "execution_count": null,
      "outputs": []
    },
    {
      "cell_type": "code",
      "source": [
        "X = np.array(df_food[continuous_cols])\n",
        "X"
      ],
      "metadata": {
        "id": "Eg2yIVcqpE3P"
      },
      "execution_count": null,
      "outputs": []
    },
    {
      "cell_type": "code",
      "source": [
        "# numpy array of data\n",
        "X = np.array(df_food[continuous_cols])\n",
        "# Cree and fit PCA object\n",
        "pca = PCA(n_components = 1)\n",
        "pca.fit(X)\n",
        "\n",
        "# Print principal components\n",
        "print(pca.components_)\n",
        "\n",
        "# Print explained variance\n",
        "print(pca.explained_variance_)"
      ],
      "metadata": {
        "id": "A5x0syMhs6xt"
      },
      "execution_count": null,
      "outputs": []
    },
    {
      "cell_type": "code",
      "source": [
        "df_food[continuous_cols].columns"
      ],
      "metadata": {
        "id": "KF2Jm-kABHqA"
      },
      "execution_count": null,
      "outputs": []
    },
    {
      "cell_type": "code",
      "source": [
        "df_food['Density']"
      ],
      "metadata": {
        "id": "SpROgza6CWik"
      },
      "execution_count": null,
      "outputs": []
    },
    {
      "cell_type": "code",
      "source": [
        "sc = StandardScaler()\n",
        "X = sc.fit_transform(np.array(df_food[continuous_cols]))\n",
        "print(X)"
      ],
      "metadata": {
        "id": "3pXBM9o9DGcb"
      },
      "execution_count": null,
      "outputs": []
    },
    {
      "cell_type": "code",
      "source": [
        "a = np.array(df_food['Density'])\n",
        "print(np.mean(a))\n",
        "print(np.std(a))\n",
        "np.where((a-np.mean(a))/np.std(a) >= 1.5)"
      ],
      "metadata": {
        "id": "AxNogr-xEC1n"
      },
      "execution_count": null,
      "outputs": []
    },
    {
      "cell_type": "code",
      "source": [
        "fig, ax = plt.subplots(1, 1, figsize = (10, 6))\n",
        "fig.tight_layout(pad = 4.0)\n",
        "binwidth = 20\n",
        "ax.hist(a, bins = np.arange(np.min(a), np.max(a) + binwidth, binwidth))\n",
        "ax.set_xlabel('Oil Density', fontsize = 14)\n",
        "ax.set_ylabel('Count', fontsize = 14)\n",
        "ax.set_xticks(np.arange(np.min(a), np.max(a) + binwidth, binwidth));"
      ],
      "metadata": {
        "id": "pOmb3XVDGLjn"
      },
      "execution_count": null,
      "outputs": []
    },
    {
      "cell_type": "code",
      "source": [
        "# numpy array of data\n",
        "sc = StandardScaler()\n",
        "X = sc.fit_transform(np.array(df_food[continuous_cols]))\n",
        "# Cree and fit PCA object\n",
        "pca = PCA(n_components = 1)\n",
        "pca.fit(X)\n",
        "\n",
        "# Print principal components\n",
        "print(pca.components_)\n",
        "\n",
        "# Print explained variance\n",
        "print(pca.explained_variance_)"
      ],
      "metadata": {
        "id": "acdAJkhWCuqF"
      },
      "execution_count": null,
      "outputs": []
    },
    {
      "cell_type": "code",
      "source": [
        "v = np.array(pca.components_).flatten()\n",
        "print(v)\n",
        "print(X[0, :])\n",
        "np.dot(X[0, :], v)\n",
        "np.dot(X, v)"
      ],
      "metadata": {
        "id": "zOkvcqeeJK8H"
      },
      "execution_count": null,
      "outputs": []
    },
    {
      "cell_type": "code",
      "source": [
        "# numpy array of data\n",
        "sc = StandardScaler()\n",
        "X = sc.fit_transform(np.array(df_food[continuous_cols]))\n",
        "# Create and fit PCA object\n",
        "pca = PCA(n_components = 2)\n",
        "pca.fit(X)\n",
        "\n",
        "# Print principal components\n",
        "print(pca.components_)\n",
        "\n",
        "# Print explained variance\n",
        "print(pca.explained_variance_)"
      ],
      "metadata": {
        "id": "Zmz9KvmiLQc_"
      },
      "execution_count": null,
      "outputs": []
    },
    {
      "cell_type": "code",
      "source": [
        "print(pca.explained_variance_)\n",
        "print(np.cumsum(pca.explained_variance_))\n",
        "print(2.29331669/4.08163265)\n",
        "print(3.53112429/4.08163265)\n",
        "print(3.83852725/4.08163265)"
      ],
      "metadata": {
        "id": "xAuD1OZENW0F"
      },
      "execution_count": null,
      "outputs": []
    },
    {
      "cell_type": "markdown",
      "source": [
        "---\n",
        "\n",
        "Following is a user-defined function for plotting 2D-data and the principal component vectors\n",
        "\n",
        "---"
      ],
      "metadata": {
        "id": "bucuCZ-3vCcS"
      }
    },
    {
      "cell_type": "code",
      "source": [
        "def draw_vector(v0, v1, ax = None):\n",
        "  ax = ax or plt.gca()\n",
        "  arrowprops=dict(arrowstyle = '->',\n",
        "  linewidth=2,\n",
        "  shrinkA=0, shrinkB=0)\n",
        "  ax.annotate('', v1, v0, arrowprops = arrowprops)"
      ],
      "metadata": {
        "id": "i0VsiVcFuXGU"
      },
      "execution_count": null,
      "outputs": []
    },
    {
      "cell_type": "code",
      "source": [
        "pca.mean_"
      ],
      "metadata": {
        "id": "K250JEWwQf7Q"
      },
      "execution_count": null,
      "outputs": []
    },
    {
      "cell_type": "code",
      "source": [
        "## Plot data with principal component vectors\n",
        "plt.scatter(X[:, 0], X[:, 1], alpha=0.2)\n",
        "for length, vector in zip(pca.explained_variance_, pca.components_):\n",
        " v = vector * 3 * np.sqrt(length)\n",
        " draw_vector(pca.mean_, pca.mean_ + v)\n",
        "plt.axis('equal');"
      ],
      "metadata": {
        "id": "jQ8XGC_YvZIj"
      },
      "execution_count": null,
      "outputs": []
    },
    {
      "cell_type": "code",
      "source": [
        "np.dot(X, np.array(pca.components_))"
      ],
      "metadata": {
        "id": "Dgval7UIQxVP"
      },
      "execution_count": null,
      "outputs": []
    }
  ]
}