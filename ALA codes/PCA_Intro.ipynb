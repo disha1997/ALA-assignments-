{
 "cells": [
  {
   "cell_type": "markdown",
   "metadata": {},
   "source": [
    "### Intro to Linear Combinations, Independence, Change of Basis & PCA  "
   ]
  },
  {
   "cell_type": "code",
   "execution_count": null,
   "metadata": {},
   "outputs": [],
   "source": [
    "import numpy as np\n",
    "import pandas as pd\n",
    "\n",
    "import matplotlib.pyplot as plt\n",
    "import seaborn as sns"
   ]
  },
  {
   "cell_type": "code",
   "execution_count": null,
   "metadata": {},
   "outputs": [],
   "source": [
    "dbp = np.array([78,80,81,82,84,86])\n",
    "sbp = np.array([126,128,127,130,130,132])\n",
    "health_index = np.array([0.6,0.8,0.7,0.9,0.94,0.98])\n",
    "df = pd.DataFrame({\"Diastolic BP\":dbp, \"Systolic BP\":sbp, \"Health Index\": health_index})\n",
    "df.head(10)"
   ]
  },
  {
   "cell_type": "code",
   "execution_count": null,
   "metadata": {},
   "outputs": [],
   "source": [
    "df_features = df[[\"Diastolic BP\", \"Systolic BP\"]]\n",
    "df_features"
   ]
  },
  {
   "cell_type": "code",
   "execution_count": null,
   "metadata": {},
   "outputs": [],
   "source": [
    "sns.set_style(style='whitegrid')\n",
    "\n",
    "sp = sns.scatterplot(x=df[\"Diastolic BP\"], y=df[\"Systolic BP\"])\n",
    "sp.set(xlabel =\"DBP\", ylabel = \"SBP\", title ='Diastolic Systolic plot')\n",
    "\n",
    "plt.show()"
   ]
  },
  {
   "cell_type": "markdown",
   "metadata": {},
   "source": [
    "**Activity: Calculate the variance of DBP and SBP**   "
   ]
  },
  {
   "cell_type": "code",
   "execution_count": null,
   "metadata": {},
   "outputs": [],
   "source": [
    "df_features.??"
   ]
  },
  {
   "cell_type": "markdown",
   "metadata": {},
   "source": [
    "**Activity: Create a synthetic feature as linear combination of DBP and SBP**\n",
    "\n",
    "1. Use beta1 = 0.8, beta2=0.6"
   ]
  },
  {
   "cell_type": "code",
   "execution_count": null,
   "metadata": {},
   "outputs": [],
   "source": []
  },
  {
   "cell_type": "markdown",
   "metadata": {},
   "source": [
    "**Activity: Write the above linear combination as Matrix vector product** "
   ]
  },
  {
   "cell_type": "code",
   "execution_count": null,
   "metadata": {},
   "outputs": [],
   "source": []
  },
  {
   "cell_type": "markdown",
   "metadata": {},
   "source": [
    "**Activity: Create a new dataframe with synthetic feature column added and calculate variance of each column**"
   ]
  },
  {
   "cell_type": "code",
   "execution_count": null,
   "metadata": {},
   "outputs": [],
   "source": []
  },
  {
   "cell_type": "markdown",
   "metadata": {},
   "source": [
    "**Activity: How much of total variance is explained by synthetic feature**\n",
    "\n",
    "Code this"
   ]
  },
  {
   "cell_type": "code",
   "execution_count": null,
   "metadata": {},
   "outputs": [],
   "source": []
  },
  {
   "cell_type": "markdown",
   "metadata": {},
   "source": [
    "**Activity: Add new synthetic features with different betas**\n",
    "\n",
    "1. Create a new dataframe with features\n",
    "2. Add synthetic feature as before (beta1=0.8, beta=0.6)\n",
    "3. Add synthetic features for different betas\n",
    "4. beta1=0.6, 0.98, 0.2, beta2=0.8, 0.2, 0.98 for DBP and SBP resepctively"
   ]
  },
  {
   "cell_type": "code",
   "execution_count": null,
   "metadata": {},
   "outputs": [],
   "source": []
  },
  {
   "cell_type": "code",
   "execution_count": null,
   "metadata": {},
   "outputs": [],
   "source": [
    "cov_mat = df_features.cov()\n",
    "\n",
    "# Watch out. If you are using numpy for calculating covariance matrix,\n",
    "# then you have to first take a transpose data matrix\n",
    "# It is pretty wierd. But it is what it is. :-(\n",
    "# cov_mat = np.cov(df_features.to_numpy().T)\n",
    "\n",
    "cov_mat"
   ]
  },
  {
   "cell_type": "code",
   "execution_count": null,
   "metadata": {},
   "outputs": [],
   "source": [
    "correl_mat = df_features.corr()\n",
    "correl_mat"
   ]
  },
  {
   "cell_type": "code",
   "execution_count": null,
   "metadata": {},
   "outputs": [],
   "source": [
    "eigen_vals, eigen_vecs = np.linalg.eig(cov_mat)"
   ]
  },
  {
   "cell_type": "code",
   "execution_count": null,
   "metadata": {},
   "outputs": [],
   "source": [
    "eigen_vals"
   ]
  },
  {
   "cell_type": "code",
   "execution_count": null,
   "metadata": {},
   "outputs": [],
   "source": [
    "eigen_vecs"
   ]
  },
  {
   "cell_type": "code",
   "execution_count": null,
   "metadata": {},
   "outputs": [],
   "source": [
    "eigen_vecs[0] #this is not eigen vec 1"
   ]
  },
  {
   "cell_type": "code",
   "execution_count": null,
   "metadata": {},
   "outputs": [],
   "source": [
    "eigen_vecs[:, 0] # this is eigen vec 1"
   ]
  },
  {
   "cell_type": "code",
   "execution_count": null,
   "metadata": {},
   "outputs": [],
   "source": [
    "X = df_features.to_numpy()\n",
    "v1 = eigen_vecs[:, 0]\n",
    "v2 = eigen_vecs[:, 1]"
   ]
  },
  {
   "cell_type": "markdown",
   "metadata": {},
   "source": [
    "**Matrix-Vector multiplication as vector of projections**"
   ]
  },
  {
   "cell_type": "code",
   "execution_count": null,
   "metadata": {},
   "outputs": [],
   "source": [
    "# Xv1 gives PC1\n",
    "# It gives the vector formed whose individual entries are \n",
    "# projection of individual records onto the direction of v1 \n",
    "PC1 = np.matmul(X, v1)\n",
    "PC1"
   ]
  },
  {
   "cell_type": "code",
   "execution_count": null,
   "metadata": {},
   "outputs": [],
   "source": [
    "# Xv2 gives PC2\n",
    "# It gives the vector formed whose individual entries are \n",
    "# projection of individual records onto the direction of v2\n",
    "PC2 = np.matmul(X, v2)\n",
    "PC2"
   ]
  },
  {
   "cell_type": "markdown",
   "metadata": {},
   "source": [
    "**Viewing Vx1 (Multiplying a record vector with Eigen matrix) as change of basis**"
   ]
  },
  {
   "cell_type": "code",
   "execution_count": null,
   "metadata": {},
   "outputs": [],
   "source": [
    "# Make Eigen Matrix\n",
    "V = np.array([v1, v2])\n",
    "V"
   ]
  },
  {
   "cell_type": "code",
   "execution_count": null,
   "metadata": {},
   "outputs": [],
   "source": [
    "val_in_std_basis = X[0,:]\n",
    "print(f\"val_in_std_basis= {val_in_std_basis}\")\n",
    "\n",
    "val_in_eigen_basis = np.matmul(V, val_in_std_basis)\n",
    "print(f\"val_in_eigen_basis= {val_in_eigen_basis}\")"
   ]
  },
  {
   "cell_type": "markdown",
   "metadata": {},
   "source": [
    "**Summary**\n",
    "\n",
    "Matrix Vector product can be viewed in 4-5 ways from a ML and data science perspective. \n",
    "1. Projection of the dataset record onto a vector\n",
    "2. Linear combination of features\n",
    "3. Change of basis: What are the new coordinates of a record vector when viewed from a new basis (This could be Eigen basis or any other basis)\n",
    "4. Matrix is a linear transformation applied to vector (And a special case is Eigen vector transformation)\n",
    "\n",
    "There are 2-3+ more ways of looking at it (in future)\n",
    "1. Row picture\n",
    "2. Reduced dimension linear combination of archetype\n",
    "3. Spectral addition over low rank matrices"
   ]
  },
  {
   "cell_type": "markdown",
   "metadata": {},
   "source": [
    "**Dot product of vectors**\n",
    "$$\n",
    "    a^Tb = \\|a\\| \\|b\\| cos\\theta\n",
    "$$"
   ]
  },
  {
   "cell_type": "code",
   "execution_count": null,
   "metadata": {},
   "outputs": [],
   "source": [
    "# Dot product of standard unit vectors e1 and e2\n",
    "e1 = np.array([1,0,0])\n",
    "e2 = np.array([0,1,0])\n",
    "np.dot(e1, e2)"
   ]
  },
  {
   "cell_type": "code",
   "execution_count": null,
   "metadata": {},
   "outputs": [],
   "source": [
    "# Dot products of eigen vectors\n",
    "np.dot(v1, v2)"
   ]
  },
  {
   "cell_type": "code",
   "execution_count": null,
   "metadata": {},
   "outputs": [],
   "source": []
  }
 ],
 "metadata": {
  "kernelspec": {
   "display_name": "quickstart",
   "language": "python",
   "name": "python3"
  },
  "language_info": {
   "codemirror_mode": {
    "name": "ipython",
    "version": 3
   },
   "file_extension": ".py",
   "mimetype": "text/x-python",
   "name": "python",
   "nbconvert_exporter": "python",
   "pygments_lexer": "ipython3",
   "version": "3.9.17"
  },
  "orig_nbformat": 4
 },
 "nbformat": 4,
 "nbformat_minor": 2
}
