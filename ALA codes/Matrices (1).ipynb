{
  "cells": [
    {
      "cell_type": "code",
      "execution_count": 2,
      "metadata": {
        "id": "BZLeh7V3Pfha"
      },
      "outputs": [],
      "source": [
        "## Load Libraries\n",
        "import pandas as pd\n",
        "import numpy as np\n",
        "import sympy as sp\n",
        "import matplotlib.pyplot as plt\n",
        "%matplotlib inline"
      ]
    },
    {
      "cell_type": "markdown",
      "metadata": {
        "id": "dKsiLUXA5s3L"
      },
      "source": [
        "---\n",
        "\n",
        "Dot product between two vectors is simply a pairwise-multiplication followed by a summation: for example, $a\\cdot b = a_1\\times b_2+a_2\\times b_2+\\cdots+a_n\\times b_n.$\n",
        "\n",
        "---"
      ]
    },
    {
      "cell_type": "code",
      "execution_count": 3,
      "metadata": {
        "id": "uydujPEZ5e5R"
      },
      "outputs": [
        {
          "data": {
            "text/plain": [
              "32"
            ]
          },
          "execution_count": 3,
          "metadata": {},
          "output_type": "execute_result"
        }
      ],
      "source": [
        "a = np.array([1, 2, 3])\n",
        "b = np.array([4, 5, 6])\n",
        "np.dot(a, b)"
      ]
    },
    {
      "cell_type": "markdown",
      "metadata": {
        "id": "GyhODmJb594l"
      },
      "source": [
        "---\n",
        "\n",
        "$L_2$ norm or the geometric length of a vector denoted as $\\lVert a\\rVert$ tells us how long a vector is. In 2-dimensions, $\\lVert a\\rVert_2 = \\sqrt{a_1^2+a_2^2}$ and in $n$-dimensions, $\\lVert a\\rVert_2 = \\sqrt{a_1^2+a_2^2+\\cdots+a_n^2}.$\n",
        "\n",
        "---"
      ]
    },
    {
      "cell_type": "code",
      "execution_count": 4,
      "metadata": {
        "id": "g0Pmt5oa6CTJ"
      },
      "outputs": [
        {
          "data": {
            "text/plain": [
              "3.7416573867739413"
            ]
          },
          "execution_count": 4,
          "metadata": {},
          "output_type": "execute_result"
        }
      ],
      "source": [
        "np.linalg.norm(a)"
      ]
    },
    {
      "cell_type": "markdown",
      "metadata": {
        "id": "T0MIWP2p6NmF"
      },
      "source": [
        "---\n",
        "\n",
        "Cauchy-Schwarz inequality $-1\\leq\\frac{a\\cdot b}{\\lVert a\\rVert\\lVert b\\rVert}\\leq1.$\n",
        "\n",
        "---"
      ]
    },
    {
      "cell_type": "code",
      "execution_count": 5,
      "metadata": {
        "id": "xejXi_-Y6d49"
      },
      "outputs": [
        {
          "data": {
            "text/plain": [
              "0.9746318461970762"
            ]
          },
          "execution_count": 5,
          "metadata": {},
          "output_type": "execute_result"
        }
      ],
      "source": [
        "np.dot(a, b) / (np.linalg.norm(a)*np.linalg.norm(b))"
      ]
    },
    {
      "cell_type": "markdown",
      "metadata": {
        "id": "iQULPDF1Hayn"
      },
      "source": [
        "---\n",
        "\n",
        "Matrix-vector product is simply a sequence of dot products of the rows of matrix (seen as vectors) with the vector\n",
        "\n",
        "---"
      ]
    },
    {
      "cell_type": "code",
      "execution_count": 6,
      "metadata": {
        "id": "eRPsIl-qHhO2"
      },
      "outputs": [
        {
          "name": "stdout",
          "output_type": "stream",
          "text": [
            "[[ 1  2 -1 -1]\n",
            " [ 2  4 -2  3]\n",
            " [-1  1 -2  4]]\n",
            "(3, 4)\n",
            "[ 1  2 -1 -1]\n",
            "[ 2  4 -2  3]\n",
            "[-1  1 -2  4]\n",
            "(4,)\n",
            "[-1  1  1  0]\n",
            "[0 0 0]\n"
          ]
        }
      ],
      "source": [
        "A = np.array([[1,2,-1,-1], [2,4,-2,3], [-1,1,-2,4]])\n",
        "x = np.array([-1, 1, 1, 0])\n",
        "print(A)\n",
        "print(A.shape)\n",
        "print(A[0])\n",
        "print(A[1])\n",
        "print(A[2])\n",
        "print(A[0].shape)\n",
        "print(x)\n",
        "print(np.dot(A, x))"
      ]
    },
    {
      "cell_type": "markdown",
      "metadata": {
        "id": "Qh6HgpDaLVXD"
      },
      "source": [
        "---\n",
        "\n",
        "A tensor of dimension 3 corresponding to 4 time stamps, 3 samples, 2 features (HR and BP)\n",
        "\n",
        "---"
      ]
    },
    {
      "cell_type": "code",
      "execution_count": 7,
      "metadata": {
        "id": "5SgAd6taLWsS"
      },
      "outputs": [
        {
          "name": "stdout",
          "output_type": "stream",
          "text": [
            "(4, 3, 2)\n",
            "[[[ 74 128]\n",
            "  [ 79 116]\n",
            "  [ 71 116]]\n",
            "\n",
            " [[ 78 118]\n",
            "  [ 82 124]\n",
            "  [ 72 128]]\n",
            "\n",
            " [[ 84 138]\n",
            "  [ 84 130]\n",
            "  [ 74 120]]\n",
            "\n",
            " [[ 82 126]\n",
            "  [ 76 156]\n",
            "  [ 82 132]]]\n",
            "[[ 74 128]\n",
            " [ 79 116]\n",
            " [ 71 116]]\n",
            "[ 74 128]\n"
          ]
        }
      ],
      "source": [
        "# Create a tensor of dimesion 3\n",
        "# 4 time stamps, 3 samples, 2 features\n",
        "T = np.array([[[74, 128], [79, 116], [71, 116]],\n",
        "              [[78, 118], [82, 124], [72, 128]],\n",
        "              [[84, 138], [84, 130], [74, 120]],\n",
        "              [[82, 126], [76, 156], [82, 132]]])\n",
        "print(T.shape)\n",
        "print(T)\n",
        "print(T[0])\n",
        "print(T[0][0])"
      ]
    },
    {
      "cell_type": "markdown",
      "metadata": {
        "id": "fw1G6_FaC086"
      },
      "source": [
        "---\n",
        "\n",
        "Reshape tensor to represent (patient, feature, timestamps). That is, the timestamp becomes the last index.\n",
        "\n",
        "---"
      ]
    },
    {
      "cell_type": "code",
      "execution_count": null,
      "metadata": {
        "id": "KTKxyxXjrj7P"
      },
      "outputs": [],
      "source": [
        "T_reshaped = T.transpose(1, 0, 2)\n",
        "print(T_reshaped)\n",
        "print(T_reshaped[0])\n",
        "print(T_reshaped[:, :, 1])"
      ]
    },
    {
      "cell_type": "code",
      "execution_count": null,
      "metadata": {
        "id": "VmBBqj6qC5np"
      },
      "outputs": [],
      "source": [
        "print(T.transpose(1, 2, 0))"
      ]
    },
    {
      "cell_type": "markdown",
      "metadata": {
        "id": "uHO2Xul2NSuv"
      },
      "source": [
        "---\n",
        "\n",
        "Tensor-vector product is simply a sequence of matrix-vector products which in turn are a sequence of dot products of vectors\n",
        "\n",
        "---"
      ]
    },
    {
      "cell_type": "code",
      "execution_count": null,
      "metadata": {
        "id": "z8KWeNkQNU-r"
      },
      "outputs": [],
      "source": [
        "x = np.array([1, 0])\n",
        "print(T)\n",
        "print(x)\n",
        "print(T.shape)\n",
        "print(x.shape)\n",
        "print(np.dot(T, x))"
      ]
    },
    {
      "cell_type": "markdown",
      "metadata": {
        "id": "SbT0b228VGgR"
      },
      "source": [
        "---\n",
        "\n",
        "Linear combination of columns of the matrix using the components of the vector is equivalent to the dot product of the rows of the matrix with the vector\n",
        "\n",
        "----"
      ]
    },
    {
      "cell_type": "code",
      "execution_count": null,
      "metadata": {
        "id": "3p0zwE06VJJ2"
      },
      "outputs": [],
      "source": [
        "print(A)\n",
        "print(x)\n",
        "# Dot product of rows of A with x\n",
        "print(np.dot(A, x))\n",
        "# Linear combination of columns of A using components of x\n",
        "print(x[0]*A[:, 0] + x[1]*A[:, 1] + x[2]*A[:, 2] + x[3]*A[:, 3])\n",
        "np.sum(x[range(4)] * A[:, range(4)], axis = 1) # faster"
      ]
    },
    {
      "cell_type": "markdown",
      "metadata": {
        "id": "kL3GsXioG9YZ"
      },
      "source": [
        "\n",
        "\n",
        "---\n",
        "\n",
        "\n",
        "The $\\texttt{sympy}$ library in Python is for symbolic computing. When using this library, everything including numbers are treated as symbols. This library can be used for calculating the RREF of an augmented matrix coming from a system of linear equations. Consider the system of linear equations $$\\boxed{\\begin{align*}x_1+2x_2-x_3-x_4&={\\color{cyan}1},\\\\2x_1+4x_2-2x_3+3x_4&={\\color{cyan}3},\\\\-x_1+x_2-2x_3+4x_4&={\\color{cyan}2}.\\end{align*}}$$\n",
        "Note the folowing equivalent ways of interpreting this system of equations:\n",
        "$$\\boxed{\\begin{align*}\\underbrace{\\begin{bmatrix}\n",
        "1 &2 & -1 & -1  \\\\\n",
        "2 & 4 & -2 & 3  \\\\\n",
        "-1 & 1 & -2 & 4   \n",
        "\\end{bmatrix}}_{A}\\underbrace{\\begin{bmatrix}x_1\\\\x_2\\\\x_3\\\\x_4\\end{bmatrix}}_{x}&=\\underbrace{\\begin{bmatrix}{\\color{cyan}1}\\\\{\\color{cyan}3}\\\\{\\color{cyan}2}\\end{bmatrix}}_{\\color{cyan}b}\\end{align*}}\\Longleftrightarrow \\underbrace{\\boxed{x_1a_1+x_2a_2+x_3a_3+x_4a_4 = {\\color{cyan}b}}}_{\\color{green}{\\text{linear combination of columns of }A}}\\Longleftrightarrow \\underbrace{\\boxed{\\begin{bmatrix}a^{(1)}\\cdot x\\\\a^{(2)}\\cdot x\\\\a^{(3)}\\cdot x\\end{bmatrix} =\\begin{bmatrix}{\\color{cyan}1}\\\\{\\color{cyan}3}\\\\{\\color{cyan}2}\\end{bmatrix}}.}_{\\color{green}{\\text{Dot product of }x\\text{ with rows of }A}}$$ The augmented matrix for this system of equations is $$\\begin{align*}\n",
        "\\begin{bmatrix}\n",
        "1 &2 & -1 & -1 &\\lvert& {\\color{cyan}1}\\\\\n",
        "2 & 4 & -2 & 3 & \\lvert&{\\color{cyan}3}\\\\\n",
        "-1 & 1 & -2 & 4 & \\lvert&{\\color{cyan}2}\n",
        "\\end{bmatrix}.\n",
        "\\end{align*}$$\n",
        "The RREF of this augmented matrix can be calculated using the following Python code:\n",
        "\n",
        "---"
      ]
    },
    {
      "cell_type": "code",
      "execution_count": 12,
      "metadata": {},
      "outputs": [
        {
          "data": {
            "text/plain": [
              "(Matrix([\n",
              " [1, 0, 0],\n",
              " [0, 1, 0]]),\n",
              " (0, 1))"
            ]
          },
          "execution_count": 12,
          "metadata": {},
          "output_type": "execute_result"
        }
      ],
      "source": [
        "Ag = sp.Matrix([[1,2,0],[2,1,0]])\n",
        "Ag.rref()"
      ]
    },
    {
      "cell_type": "code",
      "execution_count": 15,
      "metadata": {},
      "outputs": [
        {
          "data": {
            "text/plain": [
              "(Matrix([\n",
              " [1, 2, 0],\n",
              " [0, 0, 0],\n",
              " [0, 0, 0]]),\n",
              " (0,))"
            ]
          },
          "execution_count": 15,
          "metadata": {},
          "output_type": "execute_result"
        }
      ],
      "source": [
        "Ag = sp.Matrix([[72,144,0],[76,152,0],[80,160,0]])\n",
        "Ag.rref()"
      ]
    },
    {
      "cell_type": "code",
      "execution_count": null,
      "metadata": {
        "id": "iWF1mrBpghFD"
      },
      "outputs": [],
      "source": [
        "# Augmented matrix\n",
        "Ag = sp.Matrix([[-2,-1,1,0], [-1,3,1,0]])\n",
        "\n",
        "# Return the RREF and the pivot column indices as a tuple\n",
        "print(Ag.rref())"
      ]
    },
    {
      "cell_type": "code",
      "execution_count": 8,
      "metadata": {
        "id": "kzNJmnvI7zAG"
      },
      "outputs": [
        {
          "name": "stdout",
          "output_type": "stream",
          "text": [
            "(Matrix([\n",
            "[1, 0,  1, 0, -2/5],\n",
            "[0, 1, -1, 0,  4/5],\n",
            "[0, 0,  0, 1,  1/5]]), (0, 1, 3))\n"
          ]
        }
      ],
      "source": [
        "# Augmented matrix\n",
        "Ag = sp.Matrix([[1,2,-1,-1,1], [2,4,-2,3,3], [-1,1,-2,4,2]])\n",
        "\n",
        "# Return the RREF and the pivot column indices as a tuple\n",
        "print(Ag.rref())"
      ]
    },
    {
      "cell_type": "markdown",
      "metadata": {
        "id": "lsL87FkOMr2r"
      },
      "source": [
        "---\n",
        "\n",
        "This shows that $x_1, x_2,$ and $x_4$ are pivot variables and that $x_3$ is the only free variable. This system is $\\color{green}{consistent}$ with $\\color{green}{infinitely\\ many\\ solutions}$ as we see from the RREF above that\n",
        "$$x_1=-x_3-(2/5),\\,x_2=x_3+(4/5),\\,x_4=1/5,$$\n",
        "where $x_3$ can be any (real) number. We can also express the solution in vector notation as follows:\n",
        "\\begin{align*}\n",
        "x &= \\begin{bmatrix}x_1\\\\x_2\\\\x_3\\\\x_4\\end{bmatrix} = \\begin{bmatrix}-x_3-\\frac{2}{5}\\\\x_3+\\frac{4}{5}\\\\x_3\\\\\\frac{1}{5}\\end{bmatrix} = \\underbrace{x_3\\begin{bmatrix}-1\\\\1\\\\1\\\\0\\end{bmatrix}}_{\\text{solution to }Ax=0}+\\underbrace{\\begin{bmatrix}-\\frac{2}{5}\\\\\\frac{4}{5}\\\\0\\\\\\frac{1}{5}\\end{bmatrix}}_{\\text{particular solution}},\n",
        "\\end{align*}  \n",
        "noting again that $x_3$ can be any (real) number. Note that the solution has two parts:\n",
        "\n",
        "* the first one involving the free variable(s) is the solutions to $Ax = 0$ (called the null space solution);\n",
        "* the next one is the particular solution to $Ax=b.$\n",
        "\n",
        "\n",
        "\n",
        "\n",
        "---"
      ]
    },
    {
      "cell_type": "code",
      "execution_count": 10,
      "metadata": {
        "id": "MaS5_9Q9GJIc"
      },
      "outputs": [
        {
          "name": "stdout",
          "output_type": "stream",
          "text": [
            "[0 0 0]\n",
            "[1. 3. 2.]\n",
            "[1. 3. 2.]\n"
          ]
        }
      ],
      "source": [
        "A = np.array([[1,2,-1,-1], [2,4,-2,3], [-1,1,-2,4]])\n",
        "x3 = 1\n",
        "x = x3*np.array([-1, 1, 1, 0]) + np.array([-2/5, 4/5, 0, 1/5])\n",
        "\n",
        "# Check null space solution (Ax = 0)\n",
        "print(np.dot(A, x3*np.array([-1, 1, 1, 0])))\n",
        "\n",
        "# Check particular solution (Ax = b)\n",
        "print(np.dot(A, np.array([-2/5, 4/5, 0, 1/5])))\n",
        "\n",
        "# Check full solution (Ax = b)\n",
        "print(np.dot(A, x))"
      ]
    },
    {
      "cell_type": "markdown",
      "metadata": {
        "id": "gCdlUP6hYYgT"
      },
      "source": [
        "---\n",
        "\n",
        "To check whether the columns of a matrix are ${\\color{green}{linearly\\ independent\\ or\\ dependent}},$ we use the $\\color{cyan}{zero\\ right\\ hand\\  side\\ vector}.$ Picking up from the previous example the matrix $A,$ we want to find a vector $x$ such that $$Ax = \\color{cyan}0$$ which is equivalent to finding a vector $x$ such that $$x_1a_1+x_2a_2+x_3a_3+x_4a_4 = \\color{cyan}0.$$\n",
        "\n",
        "If the only solution is $x=0,$ then we say that the columns of $A$ are ${\\color{green}{linearly\\ independent}}$; otherwise, we say that the columns are ${\\color{green}{linearly\\ dependent}}.$\n",
        "\n",
        "Now we will check if the columns of the matrix $A = \\begin{bmatrix}1&2\\\\2&1\\end{bmatrix}$ are ${\\color{green}{linearly\\ independent\\ or\\ dependent}}.$\n",
        "\n",
        "---"
      ]
    },
    {
      "cell_type": "code",
      "execution_count": null,
      "metadata": {
        "id": "LowZxwrj5gn2"
      },
      "outputs": [],
      "source": [
        "# Augmented matrix\n",
        "Ag = sp.Matrix([[1, 2, 0], [2, 1, 0]])\n",
        "\n",
        "# Return the rref and the pivot column indices as a tuple\n",
        "print(Ag.rref())"
      ]
    },
    {
      "cell_type": "markdown",
      "metadata": {
        "id": "_CThPSxcaAhQ"
      },
      "source": [
        "---\n",
        "\n",
        "As the only possible solution is $x=0$ (the zero vector), which is indicated by the fact that all variables are ${\\color{magenta}{pivot}},$ the columns of $A$ are ${\\color{green}{linearly\\ independent}}.$\n",
        "\n",
        "---"
      ]
    },
    {
      "cell_type": "markdown",
      "metadata": {
        "id": "FVW3Fg9VadhB"
      },
      "source": [
        "---\n",
        "\n",
        "Now we will check if the columns of the matrix $A = \\begin{bmatrix}1&2&4\\\\2&1&5\\end{bmatrix}$ are ${\\color{green}{linearly\\ independent\\ or\\ dependent}}.$\n",
        "\n",
        "---"
      ]
    },
    {
      "cell_type": "code",
      "execution_count": 16,
      "metadata": {
        "id": "gub-Y3s2-hBE"
      },
      "outputs": [
        {
          "name": "stdout",
          "output_type": "stream",
          "text": [
            "(Matrix([\n",
            "[1, 0, 2, 0],\n",
            "[0, 1, 1, 0]]), (0, 1))\n"
          ]
        }
      ],
      "source": [
        "# Augmented matrix\n",
        "Ag = sp.Matrix([[1, 2, 4, 0], [2, 1, 5, 0]])\n",
        "\n",
        "# Return the rref and the pivot column indices as a tuple\n",
        "print(Ag.rref())"
      ]
    },
    {
      "cell_type": "markdown",
      "metadata": {
        "id": "dK3jNy4Tajw5"
      },
      "source": [
        "---\n",
        "\n",
        "We see that $x_1,x_2$ are the ${\\color{magenta}{pivot}}$ variables and $x_3$ is the ${\\color{orange}{free}}$ variable resulting in the solution $$\\boxed{\\begin{align*}{\\color{magenta}{x_1}}+2{\\color{orange}{x_3}} &=0,\\\\{\\color{magenta}{x_2}}+{\\color{orange}{x_3}}&=0\\end{align*}}\\Rightarrow \\boxed{\\begin{align*}x&=\\begin{bmatrix}{\\color{magenta}{x_1}}\\\\{\\color{magenta}{x_2}}\\\\{\\color{orange}{x_3}}\\end{bmatrix}=\\begin{bmatrix}-2{\\color{orange}{x_3}}\\\\-{\\color{orange}{x_3}}\\\\{\\color{orange}{x_3}}\\end{bmatrix}={\\color{orange}{x_3}}\\begin{bmatrix}-2\\\\-1\\\\1\\end{bmatrix},\\end{align*}}$$where ${\\color{orange}{x_3}}$ is any real number clearly showing the one degree of freedom in the solution to the system of equations $Ax = {\\color{cyan}0}.$\n",
        "\n",
        "---"
      ]
    },
    {
      "cell_type": "markdown",
      "metadata": {
        "id": "ZlAyh9dab9cB"
      },
      "source": [
        "---\n",
        "\n",
        "Now we will check if the columns of the matrix $A = \\begin{bmatrix}1&1&1&1\\\\1&2&3&4\\\\4&3&2&1\\end{bmatrix}$ are ${\\color{green}{linearly\\ independent\\ or\\ dependent}}.$\n",
        "\n",
        "---"
      ]
    },
    {
      "cell_type": "code",
      "execution_count": 17,
      "metadata": {
        "id": "o9PTEHApcRSa"
      },
      "outputs": [
        {
          "name": "stdout",
          "output_type": "stream",
          "text": [
            "(Matrix([\n",
            "[1, 0, -1, -2, 0],\n",
            "[0, 1,  2,  3, 0],\n",
            "[0, 0,  0,  0, 0]]), (0, 1))\n"
          ]
        }
      ],
      "source": [
        "# Augmented matrix\n",
        "Ag = sp.Matrix([[1, 1, 1, 1, 0], [1, 2, 3, 4, 0], [4, 3, 2, 1, 0]])\n",
        "\n",
        "# Return the rref and the pivot column indices as a tuple\n",
        "print(Ag.rref())"
      ]
    },
    {
      "cell_type": "markdown",
      "metadata": {
        "id": "5cUPBqh9cd-0"
      },
      "source": [
        "---\n",
        "\n",
        "We see that $x_1,x_2$ are the ${\\color{magenta}{pivot}}$ variables and $x_3, x_4$ are the ${\\color{orange}{free}}$ variables resulting in the solution $$\\boxed{\\begin{align*}{\\color{magenta}{x_1}}-{\\color{orange}{x_3}}-2{\\color{orange}{x_4}} &=0,\\\\{\\color{magenta}{x_2}}+2{\\color{orange}{x_3}}+3{\\color{orange}{x_4}}&=0,\\end{align*}}\\Rightarrow \\boxed{\\begin{align*}x &=\\begin{bmatrix}{\\color{magenta}{x_1}}\\\\{\\color{magenta}{x_2}}\\\\{\\color{orange}{x_3}}\\\\{\\color{orange}{x_4}}\\end{bmatrix}=\\begin{bmatrix}{\\color{orange}{x_3}}+2{\\color{orange}{x_4}}\\\\-2{\\color{orange}{x_3}}-3{\\color{orange}{x_4}}\\\\{\\color{orange}{x_3}}\\\\{\\color{orange}{x_4}}\\end{bmatrix}={\\color{orange}{x_3}}\\begin{bmatrix}1\\\\-2\\\\1\\\\0\\end{bmatrix}+{\\color{orange}{x_4}}\\begin{bmatrix}2\\\\-3\\\\0\\\\1\\end{bmatrix},\\end{align*}}$$where ${\\color{orange}{x_3}}\\text{ and } {\\color{orange}{x_4}}$ are any real numbers clearly showing the two degrees of freedom in the solution to the system of equations $Ax = {\\color{cyan}0}.$\n",
        "\n",
        "We see that columns 1 and 2 correspond to the ${\\color{magenta}{pivot}}$ positions where as columns 3 and 4 correspond to the ${\\color{orange}{free}}$ positions.\n",
        "\n",
        "We will now show that the columns corresponding to the ${\\color{orange}{free}}$ positions can be written in terms of the columns corresponding to the ${\\color{magenta}{pivot}}$ positions. We do this by first noting that the system of equations $Ax ={\\color{cyan}0}$ is equivalent to the linear combination $${\\color{magenta}{x_1a_1}}+{\\color{magenta}{x_2a_2}}+{\\color{orange}{x_3a_3}}+{\\color{orange}{x_4a_4}} = {\\color{cyan}0}.$$ Then, we choose ${\\color{orange}{x_3}}=1$ and ${\\color{orange}{x_4}} = 0$ to get the solution vector $$x=\\begin{bmatrix}1\\\\-2\\\\1\\\\0\\end{bmatrix}.$$ We use this in the equation above to get $$\\boxed{{\\color{magenta}{a_1}}-2{\\color{magenta}{a_2}}+{\\color{orange}{a_3}} = {\\color{cyan}0} \\Rightarrow {\\color{orange}{a_3}} = -{\\color{magenta}{a_1}}+2{\\color{magenta}{a_2}}.}$$ Similarly, by choosing ${\\color{orange}{x_3}}=0$ and ${\\color{orange}{x_4}} = 1,$ we can get $$\\boxed{2{\\color{magenta}{a_1}}-3{\\color{magenta}{a_2}}+{\\color{orange}{a_4}} = {\\color{cyan}0} \\Rightarrow {\\color{orange}{a_4}} = -2{\\color{magenta}{a_1}}+3{\\color{magenta}{a_2}}.}$$  \n",
        "\n",
        "---"
      ]
    },
    {
      "cell_type": "markdown",
      "metadata": {
        "id": "O3Hdpny-gntg"
      },
      "source": [
        "\n",
        "\n",
        "---\n",
        "\n",
        "\n",
        "Under what condition on the vector ${\\color{cyan}b}$ will the system $Ax= {\\color{cyan}b}$ below will be consistent; that is, it has a solution?\n",
        "\n",
        "$$\\begin{align*}\\begin{bmatrix}1&1&1&1\\\\1&2&3&4\\\\4&3&2&1\\end{bmatrix}\\begin{bmatrix}x_1\\\\x_2\\\\x_3\\end{bmatrix} &= \\begin{bmatrix}{\\color{cyan}{b_1}}\\\\{\\color{cyan}{b_2}}\\\\{\\color{cyan}{b_3}}\\end{bmatrix}?\\end{align*}$$  \n",
        "\n",
        "Try first with $b = \\begin{bmatrix}{\\color{cyan}{1}}\\\\{\\color{cyan}{2}}\\\\{\\color{cyan}{4}}\\end{bmatrix}$ and then $b = \\begin{bmatrix}{\\color{cyan}{1}}\\\\{\\color{cyan}{2}}\\\\{\\color{cyan}{3}}\\end{bmatrix}.$\n",
        "\n",
        "---"
      ]
    },
    {
      "cell_type": "code",
      "execution_count": null,
      "metadata": {
        "id": "AeLzAE6ig0eF"
      },
      "outputs": [],
      "source": [
        "# Augmented matrix\n",
        "Ag = sp.Matrix([[1, 1, 1, 1, 1], [1, 2, 3, 4, 2], [4, 3, 2, 1, 3]])\n",
        "\n",
        "# Return the rref and the pivot column indices as a tuple\n",
        "print(Ag.rref())"
      ]
    },
    {
      "cell_type": "code",
      "execution_count": 20,
      "metadata": {},
      "outputs": [
        {
          "name": "stdout",
          "output_type": "stream",
          "text": [
            "(Matrix([\n",
            "[1, 0, -1, -2],\n",
            "[0, 1,  2,  3],\n",
            "[0, 0,  0,  0]]), (0, 1))\n"
          ]
        }
      ],
      "source": [
        "Ag = sp.Matrix([[1,4,7,10],[2,5,8,11],[3,6,9,12]])\n",
        "print(Ag.rref())"
      ]
    },
    {
      "cell_type": "markdown",
      "metadata": {
        "id": "pOpPgrpBolrB"
      },
      "source": [
        "---\n",
        "\n",
        "When does a system of equations $\\boxed{Ax = {\\color{cyan}{b}}}$ have a solution; that is, consistent?\n",
        "\n",
        "Consider the following coefficient matrix:\n",
        "\n",
        "$$\\begin{align*}A&=\\begin{bmatrix}1&1&1&1\\\\1&2&3&4\\\\4&3&2&1\\end{bmatrix}.\\end{align*}$$\n",
        "\n",
        "Keeping the right hand side vector ${\\color{cyan}{b}}$ as symbolic, we get the following RREF through the elementary row operations:\n",
        "\n",
        "$$\\begin{align*}\\begin{bmatrix}1&1&1&1&\\lvert&{\\color{cyan}{b_1}}\\\\1&2&3&4&\\lvert&{\\color{cyan}{b_2}}\\\\4&3&2&1&\\lvert&{\\color{cyan}{b_3}}\\end{bmatrix}&\\longrightarrow\\begin{bmatrix}1&0&-1&-2&\\lvert&{\\color{cyan}{2b_1-b_2}}\\\\0&1&2&3&\\lvert&{\\color{cyan}{b_2-b_1}}\\\\0&0&0&0&\\lvert&{\\color{cyan}{-5b_1+b_2+b_3}}\\end{bmatrix},\\end{align*}$$\n",
        "\n",
        " which shows that for the system $\\boxed{Ax = {\\color{cyan}{b}}}$ to be consistent, we need ${\\color{cyan}{-5b_1+b_2+b_3}}=0.$\n",
        "\n",
        "In other words, we say that the vector ${\\color{cyan}{b}}$ is in the\n",
        "\n",
        "*   column space of the given matrix $A$, or\n",
        "*   span of the columns of the given matrix $A$\n",
        "\n",
        "if and only if  ${\\color{cyan}{-5b_1+b_2+b_3}}=0.$ That is, the vector ${\\color{cyan}{b}}$ can be generated as a linear combination $x_1a_2+x_2a_2+x_3a_3+x_4a_4$ if and only if ${\\color{cyan}{-5b_1+b_2+b_3}}=0.$\n",
        "\n",
        "---\n",
        "\n"
      ]
    },
    {
      "cell_type": "markdown",
      "metadata": {
        "id": "I4GNLcdVrBnv"
      },
      "source": [
        "---\n",
        "\n",
        "For the matrices below, answer the following:\n",
        "\n",
        "\n",
        "* number of variables,\n",
        "* number of pivot variables,\n",
        "* number of free variables,\n",
        "* degrees of freedom for the soution to $Ax={\\color{cyan}{0}},$\n",
        "* write down the solution vector $x$ for $Ax={\\color{cyan}{0}}$ clearly showing the degrees of freedom,\n",
        "* are columns of $A$ linearly independent or dependent?\n",
        "* what are the pivot columns?\n",
        "* what are the free columns, if any?\n",
        "* express the free columns, if any, in terms of the pivot columns.\n",
        "\n",
        "$$\\begin{align*}\\begin{bmatrix}1&8&3\\\\-1&-6&-7\\\\1&2&15\\\\-1&-4&-11\\end{bmatrix},\\quad \\begin{bmatrix}3&2\\\\1&-1\\\\4&0\\\\2&1\\end{bmatrix},\\quad \\begin{bmatrix}1&-2&0&2\\\\1&1&3&-1\\end{bmatrix}.\\end{align*}$$\n",
        "\n",
        "---\n",
        "\n"
      ]
    },
    {
      "cell_type": "code",
      "execution_count": null,
      "metadata": {
        "id": "LZlPGr7VwnXr"
      },
      "outputs": [],
      "source": [
        "# Type code here"
      ]
    },
    {
      "cell_type": "markdown",
      "metadata": {
        "id": "41Y_KylNvVwR"
      },
      "source": [
        "Check whether the following systems of equations are consistent; if yes, then express the solution in vector form:\n",
        "\n",
        "$$\\begin{align*}(1)\\,A &= \\begin{bmatrix}1&8&3\\\\-1&-6&-7\\\\1&2&15\\\\-1&-4&-11\\end{bmatrix},\\ b = \\begin{bmatrix}3\\\\2\\\\0\\\\1\\end{bmatrix},\\\\\\\\(2)\\,A &= \\begin{bmatrix}1&8&3\\\\-1&-6&-7\\\\1&2&15\\\\-1&-4&-11\\end{bmatrix},\\ b = \\begin{bmatrix}-3\\\\2\\\\0\\\\1\\end{bmatrix},\\\\\\\\(3)\\,A&=\\begin{bmatrix}3&2\\\\1&-1\\\\4&0\\\\2&1\\end{bmatrix},\\ b = \\begin{bmatrix}2\\\\-1\\\\1\\\\1\\end{bmatrix},\\\\\\\\(4)\\, A&=\\begin{bmatrix}3&2\\\\1&-1\\\\4&0\\\\2&1\\end{bmatrix},\\ b = \\begin{bmatrix}2\\\\-1\\\\0\\\\1\\end{bmatrix},\\\\(5)\\, A&=\\begin{bmatrix}1&-2&0&2\\\\1&1&3&-1\\end{bmatrix}, \\ b = \\begin{bmatrix}1\\\\2\\end{bmatrix}.\\end{align*}$$\n",
        "\n",
        "---"
      ]
    },
    {
      "cell_type": "code",
      "execution_count": null,
      "metadata": {
        "id": "16zXCyv4aesN"
      },
      "outputs": [],
      "source": [
        "## Consider equation (4) above\n",
        "# Augmented matrix\n",
        "Ag = sp.Matrix([[3, 2, 2], [1, -1, -1], [4, 0, 0], [2, 1, 1]])\n",
        "\n",
        "# Return the rref and the pivot column indices as a tuple\n",
        "print(Ag.rref())"
      ]
    },
    {
      "cell_type": "code",
      "execution_count": null,
      "metadata": {
        "id": "sNFKxkvpwd6G"
      },
      "outputs": [],
      "source": [
        "## Consider equation (5) above\n",
        "# Augmented matrix\n",
        "Ag = sp.Matrix([[1, -2, 0, 2, 1], [1, 1, 3, -1, 2]])\n",
        "\n",
        "# Return the rref and the pivot column indices as a tuple\n",
        "print(Ag.rref())"
      ]
    },
    {
      "cell_type": "code",
      "execution_count": null,
      "metadata": {
        "id": "JNdsR_kTMriY"
      },
      "outputs": [],
      "source": [
        "A = np.array([[1, -2, 0, 2], [1, 1, 3, -1]])\n",
        "x3 = 1000\n",
        "x4 = -1000\n",
        "\n",
        "# Check null space solution (Ax = 0)\n",
        "print(np.dot(A, x3*np.array([-2, -1, 1, 0])+x4*np.array([0, 1, 0, 1])))\n",
        "\n",
        "# Check particular solution (Ax = b)\n",
        "print(np.dot(A, np.array([5/3, 1/3, 0, 0])))\n",
        "\n",
        "# Check full solution (Ax = b)\n",
        "x = x3*np.array([-2, -1, 1, 0]) + x4*np.array([0, 1, 0, 1]) + np.array([5/3, 1/3, 0, 0])\n",
        "print(np.dot(A, x))"
      ]
    },
    {
      "cell_type": "markdown",
      "metadata": {
        "id": "hFiVlb9xAErq"
      },
      "source": [
        "---\n",
        "\n",
        "Here, we simulate a patient dataset with 20 samples and 5 features (HR, BP, Temp, Height, Weight).\n",
        "\n",
        "---"
      ]
    },
    {
      "cell_type": "code",
      "execution_count": null,
      "metadata": {
        "id": "fG7nSIRAzrZD"
      },
      "outputs": [],
      "source": [
        "# Simulate a sales dataset\n",
        "#np.random.seed(100)\n",
        "nsamples = 20\n",
        "df = pd.DataFrame({'HR' : np.round(np.random.normal(loc = 76, scale = 8, size = nsamples)),\n",
        "                   'BP' : np.round(np.random.normal(loc = 128, scale = 16, size = nsamples)),\n",
        "                   'Temp' : np.round(np.random.normal(loc = 37, scale = 3, size = nsamples))})\n",
        "df['Height'] = (1.1)*df['HR'] + (0.6)*df['BP'] + (0.25)*df['Temp']\n",
        "df['Weight'] = (0.5)*df['HR'] + (0.25)*df['BP'] + (0.05)*df['Temp']\n",
        "A = np.array(df)"
      ]
    },
    {
      "cell_type": "markdown",
      "metadata": {
        "id": "xh2aqJ_XCDQK"
      },
      "source": [
        "---\n",
        "\n",
        "What are the linearly independent features? Write the linearly dependent features, if any, in terms of the linearly independent features.\n",
        "\n",
        "---"
      ]
    },
    {
      "cell_type": "markdown",
      "metadata": {
        "id": "cP1ZBvUMJNOx"
      },
      "source": [
        "---\n",
        "\n",
        "**Example**\n",
        "\n",
        "---"
      ]
    },
    {
      "cell_type": "code",
      "execution_count": null,
      "metadata": {
        "id": "nmdRa_FaDh04"
      },
      "outputs": [],
      "source": [
        "Ag = sp.Matrix(np.array([[1, 2, 1], [3, 4, 2], [5, 6, 0]]))\n",
        "Ag.rref()"
      ]
    },
    {
      "cell_type": "markdown",
      "metadata": {
        "id": "Q_KPo_ZJJv3A"
      },
      "source": [
        "\n",
        "\n",
        "*   System is inconsistent.\n",
        "*   Columns of $A$ are linearly independent.\n",
        "*  What are the solutions to $Ax=0$? They are $x=\\begin{bmatrix}0\\\\0\\end{bmatrix} \\Rightarrow N(A) = \\left\\{\\begin{bmatrix}0\\\\0\\end{bmatrix}\\right\\}.$\n",
        "*  $C(A) = \\left\\{c_1\\begin{bmatrix}1\\\\3\\\\5\\end{bmatrix}+c_2\\begin{bmatrix}2\\\\4\\\\6\\end{bmatrix},\\ c_1,c_2\\in\\mathbb{R}\\right\\} = \\{c_1a_1+c_2a_2,\\, c_1,c_2\\in\\mathbb{R}\\}.$\n",
        "* $\\text{Rank}(A) = 2,$ which is also referred to as the $\\text{dim}(C(A)),$ which is equal to the number of generators in the column space of $A,$ which is also equal to the number of pivot variables.\n",
        "* $\\text{Nullity}(A) = 0,$ which is also referred to as the $\\text{dim}(N(A)),$ which is equal to the number of generators in the null space of $A,$ which is also equal to the number of free variables.\n"
      ]
    },
    {
      "cell_type": "markdown",
      "metadata": {
        "id": "QNtFIDjGOlmk"
      },
      "source": [
        "---\n",
        "\n",
        "**Example**\n",
        "\n",
        "---"
      ]
    },
    {
      "cell_type": "code",
      "execution_count": null,
      "metadata": {
        "id": "GJBc7v4EOk1L"
      },
      "outputs": [],
      "source": [
        "Ag = sp.Matrix(np.array([[1, 1, 1, 1, 1], [1, 2, 4, 8, 2], [1, 3, 9, 27, 3]]))\n",
        "Ag.rref()"
      ]
    },
    {
      "cell_type": "markdown",
      "metadata": {
        "id": "prKXhdjrO_kB"
      },
      "source": [
        "\n",
        "\n",
        "*   System is consistent.\n",
        "*   Columns of $A$ are linearly dependent.\n",
        "*  What are the solutions to $Ax=0$? They are, $x=\\begin{bmatrix}x_1\\\\x_2\\\\x_3\\\\x_4\\end{bmatrix} = \\begin{bmatrix}-6x_4\\\\11x_4\\\\-6x_4\\\\x_4\\end{bmatrix} = x_4\\begin{bmatrix}-6\\\\11\\\\-6\\\\1\\end{bmatrix}\\Rightarrow N(A) = \\left\\{ x_4\\begin{bmatrix}-6\\\\11\\\\-6\\\\1\\end{bmatrix},\\ x_4\\in\\mathbb{R}\\right\\}.$\n",
        "* What are the solutions to $Ax=b$? They are, They are, $x=\\begin{bmatrix}x_1\\\\x_2\\\\x_3\\\\x_4\\end{bmatrix} = \\begin{bmatrix}-6x_4\\\\11x_4+1\\\\-6x_4\\\\x_4\\end{bmatrix} = x_4\\begin{bmatrix}-6\\\\11\\\\-6\\\\1\\end{bmatrix}+\\begin{bmatrix}0\\\\1\\\\0\\\\0\\end{bmatrix}= \\left\\{ x_4\\begin{bmatrix}-6\\\\11\\\\-6\\\\1\\end{bmatrix}+\\begin{bmatrix}0\\\\1\\\\0\\\\0\\end{bmatrix},\\ x_4\\in\\mathbb{R}\\right\\}.$\n",
        "*  $C(A) = \\left\\{c_1\\begin{bmatrix}1\\\\1\\\\1\\end{bmatrix}+c_2\\begin{bmatrix}1\\\\2\\\\3\\end{bmatrix}+c_3\\begin{bmatrix}1\\\\4\\\\9\\end{bmatrix},\\ c_1,c_2,c_3\\in\\mathbb{R}\\right\\} = \\{c_1a_1+c_2a_2+c_3a_3,\\, c_1,c_2,c_3\\in\\mathbb{R}\\}.$\n",
        "* $\\text{Rank}(A) = 3,$ which is also referred to as the $\\text{dim}(C(A)),$ which is equal to the number of generators in the column space of $A,$ which is also equal to the number of pivot variables.\n",
        "* $\\text{Nullity}(A) = 1,$ which is also referred to as the $\\text{dim}(N(A)),$ which is equal to the number of generators in the null space of $A,$ which is also equal to the number of free variables.\n"
      ]
    }
  ],
  "metadata": {
    "colab": {
      "provenance": []
    },
    "kernelspec": {
      "display_name": "Python 3",
      "name": "python3"
    },
    "language_info": {
      "codemirror_mode": {
        "name": "ipython",
        "version": 3
      },
      "file_extension": ".py",
      "mimetype": "text/x-python",
      "name": "python",
      "nbconvert_exporter": "python",
      "pygments_lexer": "ipython3",
      "version": "3.11.6"
    }
  },
  "nbformat": 4,
  "nbformat_minor": 0
}
