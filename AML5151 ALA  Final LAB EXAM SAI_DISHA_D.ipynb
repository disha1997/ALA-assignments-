{
  "nbformat": 4,
  "nbformat_minor": 0,
  "metadata": {
    "colab": {
      "provenance": [],
      "include_colab_link": true
    },
    "kernelspec": {
      "name": "python3",
      "display_name": "Python 3"
    }
  },
  "cells": [
    {
      "cell_type": "markdown",
      "metadata": {
        "id": "view-in-github",
        "colab_type": "text"
      },
      "source": [
        "<a href=\"https://colab.research.google.com/github/disha1997/Applied-Linear-Algebra/blob/main/AML5151%20ALA%20%20Final%20LAB%20EXAM%20SAI_DISHA_D.ipynb\" target=\"_parent\"><img src=\"https://colab.research.google.com/assets/colab-badge.svg\" alt=\"Open In Colab\"/></a>"
      ]
    },
    {
      "cell_type": "markdown",
      "metadata": {
        "id": "D0SnKEOygrud"
      },
      "source": [
        "---\n",
        "\n",
        "\n",
        "**$$\\color{orange}{AML\\ 5151\\,\\lvert\\, Applied\\ Linear\\ Algebra\\,\\lvert\\,Lab\\ Final\\,\\lvert\\,Odd\\ Semester\\ 2023}$$**\n",
        "\n",
        "---\n",
        "\n",
        "**Instructions:**\n",
        "1. There are 2 problems with sub-parts to each problem;\n",
        "2. You are welcome to refer to any non-human resource for answering the questions but you must *not* discuss your questions or code with anyone else, inside or outside the class;\n",
        "3. By submitting your work, you are implicitly honoring the agreement above;\n",
        "4. You might be called for a one-on-one during the final exam after reviewing your submission to explain your code and answer additional questions. Failure to justify your code and answers will result in significant points docked from your final exam score.\n",
        "\n",
        "---\n",
        "\n",
        "**Upload the following two files by clicking [here](https://learnermanipal-my.sharepoint.com/:f:/g/personal/sudarsan_acharya_manipal_edu/Es9TcouX6qtNkvljyGPBukABcPKB_7OdeczAVPqystz1eg)**\n",
        "\n",
        "1. Completed code clearly showing the output cells (.ipynb file) **with the naming convention example** $$\\color{cyan}{\\text{ALA_LabFinal_SudarsanAcharya.ipynb}}$$ and\n",
        "2. PDF of your completed code clearly showing the output cells (go to file->print->save as PDF choosing Landscape orientation) **with the naming convention example** $$\\color{cyan}{\\text{ALA_LabFinal_SudarsanAcharya.pdf}}$$\n",
        "\n",
        "\n",
        "---"
      ]
    },
    {
      "cell_type": "code",
      "metadata": {
        "id": "BZLeh7V3Pfha",
        "colab": {
          "base_uri": "https://localhost:8080/"
        },
        "outputId": "8293018c-2796-4887-d459-e137ad756a95"
      },
      "source": [
        "## Load Libraries\n",
        "import numpy as np\n",
        "import sympy as sp\n",
        "from scipy import linalg\n",
        "import matplotlib.pyplot as plt\n",
        "import matplotlib.cm as cm\n",
        "plt.style.use('seaborn-whitegrid')\n",
        "%matplotlib inline\n",
        "\n",
        "from sklearn.preprocessing import MinMaxScaler\n",
        "from scipy.sparse import random\n",
        "from scipy import stats"
      ],
      "execution_count": null,
      "outputs": [
        {
          "output_type": "stream",
          "name": "stderr",
          "text": [
            "<ipython-input-55-f5ec7340301a>:7: MatplotlibDeprecationWarning: The seaborn styles shipped by Matplotlib are deprecated since 3.6, as they no longer correspond to the styles shipped by seaborn. However, they will remain available as 'seaborn-v0_8-<style>'. Alternatively, directly use the seaborn API instead.\n",
            "  plt.style.use('seaborn-whitegrid')\n"
          ]
        }
      ]
    },
    {
      "cell_type": "markdown",
      "metadata": {
        "id": "8ZfC0xWz-FQK"
      },
      "source": [
        "---\n",
        "\n",
        "**Note**: the following function produces a component plot of a vector. Just run the cell.\n",
        "\n",
        "---\n"
      ]
    },
    {
      "cell_type": "code",
      "metadata": {
        "id": "sizPyUC5JasE"
      },
      "source": [
        "def plotveccomp(x, name = ' ', color = 'black', marker = '*', axis = None):\n",
        "  ax = axis\n",
        "  component_index = range(0, len(x))\n",
        "  ax.plot(component_index, x, color = color, marker = marker)\n",
        "  ax.plot(component_index, [np.mean(x)]*len(x), linewidth = 1, linestyle = 'dashed', color ='blue')\n",
        "  ax.plot(component_index, [np.mean(x) - np.std(x)]*len(x), linewidth = 1, linestyle = 'dashed', color ='red')\n",
        "  ax.plot(component_index, [np.mean(x) + np.std(x)]*len(x), linewidth = 1, linestyle = 'dashed', color ='red')\n",
        "  ax.set_xlabel('Index')\n",
        "  ax.set_ylabel('Value')\n",
        "  ax.set_title('Component plot of '+name)"
      ],
      "execution_count": null,
      "outputs": []
    },
    {
      "cell_type": "markdown",
      "source": [
        "---\n",
        "\n",
        "**Note**: the following function generates a random $n\\times n$-matrix for a given input $n.$ The entries of the matrix are *normally* distrbuted with mean 0 and standard deviation 1. Just run the cell.\n",
        "\n",
        "---"
      ],
      "metadata": {
        "id": "zLmlRGsoVm5A"
      }
    },
    {
      "cell_type": "code",
      "source": [
        "def genrandMatrix(n):\n",
        "  A = np.random.normal(0, 1, (n, n))\n",
        "  return(A)"
      ],
      "metadata": {
        "id": "hLtaQNpjPPzA"
      },
      "execution_count": null,
      "outputs": []
    },
    {
      "cell_type": "markdown",
      "source": [
        "---\n",
        "\n",
        "**Question-1.1**: Generate a $8\\times 8$-random matrix and flatten it into a 1D-vector $a$.\n",
        "\n",
        "---"
      ],
      "metadata": {
        "id": "5bE7bhRQWBC-"
      }
    },
    {
      "cell_type": "code",
      "source": [
        "n = 8\n",
        "a = genrandMatrix(n).flatten()\n",
        "print(a.shape)"
      ],
      "metadata": {
        "id": "cWI8q2ukWJWa",
        "colab": {
          "base_uri": "https://localhost:8080/"
        },
        "outputId": "63a2c366-17d5-467a-902a-38bea48400e8"
      },
      "execution_count": null,
      "outputs": [
        {
          "output_type": "stream",
          "name": "stdout",
          "text": [
            "(64,)\n"
          ]
        }
      ]
    },
    {
      "cell_type": "markdown",
      "source": [
        "---\n",
        "\n",
        "**Question-1.2**: Make a component plot of the vector $a$.\n",
        "\n",
        "---"
      ],
      "metadata": {
        "id": "KyggAhAmWYa9"
      }
    },
    {
      "cell_type": "code",
      "source": [
        "fig, ax = plt.subplots(1, 1, figsize = (6,4))\n",
        "fig.tight_layout(pad = 4.0)\n",
        "plotveccomp(a, 'a', 'black', '*', ax)"
      ],
      "metadata": {
        "id": "VcIosS7NWb4N",
        "colab": {
          "base_uri": "https://localhost:8080/",
          "height": 360
        },
        "outputId": "a77d0e6c-e8c3-4f2c-e2cc-7ad5bca81941"
      },
      "execution_count": null,
      "outputs": [
        {
          "output_type": "display_data",
          "data": {
            "text/plain": [
              "<Figure size 600x400 with 1 Axes>"
            ],
            "image/png": "[encoded data removed]"
          },
          "metadata": {}
        }
      ]
    },
    {
      "cell_type": "markdown",
      "source": [
        "---\n",
        "\n",
        "**Question-1.3**: What percentage of components of $a$ are within 1 standard deviation from the mean? Is the result a familiar number?\n",
        "\n",
        "---"
      ],
      "metadata": {
        "id": "whysMiD4WsVw"
      }
    },
    {
      "cell_type": "code",
      "source": [
        "(np.mean(abs(a-np.mean(a)) <= 1*np.std(a)))*100"
      ],
      "metadata": {
        "id": "xSSCoG1uWxCb",
        "colab": {
          "base_uri": "https://localhost:8080/"
        },
        "outputId": "0fde0852-6f41-4e51-a9a8-b9e9ed648800"
      },
      "execution_count": null,
      "outputs": [
        {
          "output_type": "execute_result",
          "data": {
            "text/plain": [
              "65.625"
            ]
          },
          "metadata": {},
          "execution_count": 60
        }
      ]
    },
    {
      "cell_type": "markdown",
      "source": [
        "It follows empirical formula (normal distribution)"
      ],
      "metadata": {
        "id": "iU2DGZuba-rY"
      }
    },
    {
      "cell_type": "markdown",
      "source": [
        "---\n",
        "\n",
        "**Note**: The following function generates a so called *Hadamard matrix* $H.$ Run the cell, and observe the columns of the matrix.\n",
        "\n",
        "---"
      ],
      "metadata": {
        "id": "g70unmLhXY4l"
      }
    },
    {
      "cell_type": "code",
      "source": [
        "from scipy.linalg import hadamard\n",
        "H = hadamard(4)\n",
        "print(H)"
      ],
      "metadata": {
        "id": "WhKeX_wnXuQ1",
        "colab": {
          "base_uri": "https://localhost:8080/"
        },
        "outputId": "28d1dd0d-1ef3-4963-9848-4e35d520ceed"
      },
      "execution_count": null,
      "outputs": [
        {
          "output_type": "stream",
          "name": "stdout",
          "text": [
            "[[ 1  1  1  1]\n",
            " [ 1 -1  1 -1]\n",
            " [ 1  1 -1 -1]\n",
            " [ 1 -1 -1  1]]\n"
          ]
        }
      ]
    },
    {
      "cell_type": "markdown",
      "source": [
        "---\n",
        "\n",
        "**Question-1.4**: Check if the columns of the Hadamard matrix generated above are linearly independent.\n",
        "\n",
        "---"
      ],
      "metadata": {
        "id": "obp5_gELYJW9"
      }
    },
    {
      "cell_type": "code",
      "source": [
        "AugmentedMatrix = sp.Matrix(H)\n",
        "print(AugmentedMatrix.rref())"
      ],
      "metadata": {
        "id": "4vWKCUzWYOLs",
        "colab": {
          "base_uri": "https://localhost:8080/"
        },
        "outputId": "ef0efff1-ac66-4490-e264-e3c909d7f9b8"
      },
      "execution_count": null,
      "outputs": [
        {
          "output_type": "stream",
          "name": "stdout",
          "text": [
            "(Matrix([\n",
            "[1, 0, 0, 0],\n",
            "[0, 1, 0, 0],\n",
            "[0, 0, 1, 0],\n",
            "[0, 0, 0, 1]]), (0, 1, 2, 3))\n"
          ]
        }
      ]
    },
    {
      "cell_type": "markdown",
      "source": [
        "Yes the columns of Hadamard Matrix is linearly independent as there no free variables and all are pivot variables"
      ],
      "metadata": {
        "id": "QiJIK1hdD-xx"
      }
    },
    {
      "cell_type": "markdown",
      "source": [
        "---\n",
        "\n",
        "**Question-1.5**: Generate a Hadamard matrix with number of rows and columns equal to the size of vector $a$.\n",
        "\n",
        "---"
      ],
      "metadata": {
        "id": "ofGZzRI8YiuF"
      }
    },
    {
      "cell_type": "code",
      "source": [
        "H = hadamard(len(a))"
      ],
      "metadata": {
        "id": "lgN-9hoyYsq4"
      },
      "execution_count": null,
      "outputs": []
    },
    {
      "cell_type": "code",
      "source": [
        "print(H)"
      ],
      "metadata": {
        "colab": {
          "base_uri": "https://localhost:8080/"
        },
        "id": "f67MfODZEioR",
        "outputId": "5ad30b03-eee5-4899-a315-9ebc068e316a"
      },
      "execution_count": null,
      "outputs": [
        {
          "output_type": "stream",
          "name": "stdout",
          "text": [
            "[[ 1  1  1 ...  1  1  1]\n",
            " [ 1 -1  1 ... -1  1 -1]\n",
            " [ 1  1 -1 ...  1 -1 -1]\n",
            " ...\n",
            " [ 1 -1  1 ... -1  1 -1]\n",
            " [ 1  1 -1 ...  1 -1 -1]\n",
            " [ 1 -1 -1 ... -1 -1  1]]\n"
          ]
        }
      ]
    },
    {
      "cell_type": "markdown",
      "source": [
        "---\n",
        "\n",
        "**Question-1.6**: Check if the columns of $H$ are mutually orthogonal.\n",
        "\n",
        "---"
      ],
      "metadata": {
        "id": "1f08R1THY13l"
      }
    },
    {
      "cell_type": "code",
      "source": [
        "for i in range(len(a)-1):\n",
        "  for j in range(len(a)-1):\n",
        "    if i!=j:\n",
        "      if np.dot(H[:,i], H[:,i+1]) == 0:\n",
        "        continue\n",
        "      else:\n",
        "        print('False')"
      ],
      "metadata": {
        "id": "6WGsQGOzFdOh"
      },
      "execution_count": null,
      "outputs": []
    },
    {
      "cell_type": "code",
      "source": [
        "#dot product of any two rows or column will be 0 for hadamard matrix\n",
        "np.dot(H.T, H)"
      ],
      "metadata": {
        "id": "dcsqYDpJY6Lb",
        "colab": {
          "base_uri": "https://localhost:8080/"
        },
        "outputId": "83dceeff-01bb-4dea-f894-d8e08f3303e2"
      },
      "execution_count": null,
      "outputs": [
        {
          "output_type": "execute_result",
          "data": {
            "text/plain": [
              "array([[64,  0,  0, ...,  0,  0,  0],\n",
              "       [ 0, 64,  0, ...,  0,  0,  0],\n",
              "       [ 0,  0, 64, ...,  0,  0,  0],\n",
              "       ...,\n",
              "       [ 0,  0,  0, ..., 64,  0,  0],\n",
              "       [ 0,  0,  0, ...,  0, 64,  0],\n",
              "       [ 0,  0,  0, ...,  0,  0, 64]])"
            ]
          },
          "metadata": {},
          "execution_count": 95
        }
      ]
    },
    {
      "cell_type": "markdown",
      "source": [
        "yes, they are mutually orthogonal"
      ],
      "metadata": {
        "id": "xoxO2sdKIB4I"
      }
    },
    {
      "cell_type": "markdown",
      "source": [
        "---\n",
        "\n",
        "**Question-1.7**: Normalize the columns of $H.$ That is, divide each column of $H$ by the $l_2$-norm of that column.\n",
        "\n",
        "---"
      ],
      "metadata": {
        "id": "6A8cl-SDZBNG"
      }
    },
    {
      "cell_type": "code",
      "source": [
        "for i in range(len(a)):\n",
        "  print(H[:,i] / np.linalg.norm(H[:,i]))"
      ],
      "metadata": {
        "colab": {
          "base_uri": "https://localhost:8080/"
        },
        "id": "pZWeGAkzJJ4M",
        "outputId": "68b24826-1606-4609-dc24-9f295612e642"
      },
      "execution_count": null,
      "outputs": [
        {
          "output_type": "stream",
          "name": "stdout",
          "text": [
            "[0.125 0.125 0.125 0.125 0.125 0.125 0.125 0.125 0.125 0.125 0.125 0.125\n",
            " 0.125 0.125 0.125 0.125 0.125 0.125 0.125 0.125 0.125 0.125 0.125 0.125\n",
            " 0.125 0.125 0.125 0.125 0.125 0.125 0.125 0.125 0.125 0.125 0.125 0.125\n",
            " 0.125 0.125 0.125 0.125 0.125 0.125 0.125 0.125 0.125 0.125 0.125 0.125\n",
            " 0.125 0.125 0.125 0.125 0.125 0.125 0.125 0.125 0.125 0.125 0.125 0.125\n",
            " 0.125 0.125 0.125 0.125]\n",
            "[ 0.125 -0.125  0.125 -0.125  0.125 -0.125  0.125 -0.125  0.125 -0.125\n",
            "  0.125 -0.125  0.125 -0.125  0.125 -0.125  0.125 -0.125  0.125 -0.125\n",
            "  0.125 -0.125  0.125 -0.125  0.125 -0.125  0.125 -0.125  0.125 -0.125\n",
            "  0.125 -0.125  0.125 -0.125  0.125 -0.125  0.125 -0.125  0.125 -0.125\n",
            "  0.125 -0.125  0.125 -0.125  0.125 -0.125  0.125 -0.125  0.125 -0.125\n",
            "  0.125 -0.125  0.125 -0.125  0.125 -0.125  0.125 -0.125  0.125 -0.125\n",
            "  0.125 -0.125  0.125 -0.125]\n",
            "[ 0.125  0.125 -0.125 -0.125  0.125  0.125 -0.125 -0.125  0.125  0.125\n",
            " -0.125 -0.125  0.125  0.125 -0.125 -0.125  0.125  0.125 -0.125 -0.125\n",
            "  0.125  0.125 -0.125 -0.125  0.125  0.125 -0.125 -0.125  0.125  0.125\n",
            " -0.125 -0.125  0.125  0.125 -0.125 -0.125  0.125  0.125 -0.125 -0.125\n",
            "  0.125  0.125 -0.125 -0.125  0.125  0.125 -0.125 -0.125  0.125  0.125\n",
            " -0.125 -0.125  0.125  0.125 -0.125 -0.125  0.125  0.125 -0.125 -0.125\n",
            "  0.125  0.125 -0.125 -0.125]\n",
            "[ 0.125 -0.125 -0.125  0.125  0.125 -0.125 -0.125  0.125  0.125 -0.125\n",
            " -0.125  0.125  0.125 -0.125 -0.125  0.125  0.125 -0.125 -0.125  0.125\n",
            "  0.125 -0.125 -0.125  0.125  0.125 -0.125 -0.125  0.125  0.125 -0.125\n",
            " -0.125  0.125  0.125 -0.125 -0.125  0.125  0.125 -0.125 -0.125  0.125\n",
            "  0.125 -0.125 -0.125  0.125  0.125 -0.125 -0.125  0.125  0.125 -0.125\n",
            " -0.125  0.125  0.125 -0.125 -0.125  0.125  0.125 -0.125 -0.125  0.125\n",
            "  0.125 -0.125 -0.125  0.125]\n",
            "[ 0.125  0.125  0.125  0.125 -0.125 -0.125 -0.125 -0.125  0.125  0.125\n",
            "  0.125  0.125 -0.125 -0.125 -0.125 -0.125  0.125  0.125  0.125  0.125\n",
            " -0.125 -0.125 -0.125 -0.125  0.125  0.125  0.125  0.125 -0.125 -0.125\n",
            " -0.125 -0.125  0.125  0.125  0.125  0.125 -0.125 -0.125 -0.125 -0.125\n",
            "  0.125  0.125  0.125  0.125 -0.125 -0.125 -0.125 -0.125  0.125  0.125\n",
            "  0.125  0.125 -0.125 -0.125 -0.125 -0.125  0.125  0.125  0.125  0.125\n",
            " -0.125 -0.125 -0.125 -0.125]\n",
            "[ 0.125 -0.125  0.125 -0.125 -0.125  0.125 -0.125  0.125  0.125 -0.125\n",
            "  0.125 -0.125 -0.125  0.125 -0.125  0.125  0.125 -0.125  0.125 -0.125\n",
            " -0.125  0.125 -0.125  0.125  0.125 -0.125  0.125 -0.125 -0.125  0.125\n",
            " -0.125  0.125  0.125 -0.125  0.125 -0.125 -0.125  0.125 -0.125  0.125\n",
            "  0.125 -0.125  0.125 -0.125 -0.125  0.125 -0.125  0.125  0.125 -0.125\n",
            "  0.125 -0.125 -0.125  0.125 -0.125  0.125  0.125 -0.125  0.125 -0.125\n",
            " -0.125  0.125 -0.125  0.125]\n",
            "[ 0.125  0.125 -0.125 -0.125 -0.125 -0.125  0.125  0.125  0.125  0.125\n",
            " -0.125 -0.125 -0.125 -0.125  0.125  0.125  0.125  0.125 -0.125 -0.125\n",
            " -0.125 -0.125  0.125  0.125  0.125  0.125 -0.125 -0.125 -0.125 -0.125\n",
            "  0.125  0.125  0.125  0.125 -0.125 -0.125 -0.125 -0.125  0.125  0.125\n",
            "  0.125  0.125 -0.125 -0.125 -0.125 -0.125  0.125  0.125  0.125  0.125\n",
            " -0.125 -0.125 -0.125 -0.125  0.125  0.125  0.125  0.125 -0.125 -0.125\n",
            " -0.125 -0.125  0.125  0.125]\n",
            "[ 0.125 -0.125 -0.125  0.125 -0.125  0.125  0.125 -0.125  0.125 -0.125\n",
            " -0.125  0.125 -0.125  0.125  0.125 -0.125  0.125 -0.125 -0.125  0.125\n",
            " -0.125  0.125  0.125 -0.125  0.125 -0.125 -0.125  0.125 -0.125  0.125\n",
            "  0.125 -0.125  0.125 -0.125 -0.125  0.125 -0.125  0.125  0.125 -0.125\n",
            "  0.125 -0.125 -0.125  0.125 -0.125  0.125  0.125 -0.125  0.125 -0.125\n",
            " -0.125  0.125 -0.125  0.125  0.125 -0.125  0.125 -0.125 -0.125  0.125\n",
            " -0.125  0.125  0.125 -0.125]\n",
            "[ 0.125  0.125  0.125  0.125  0.125  0.125  0.125  0.125 -0.125 -0.125\n",
            " -0.125 -0.125 -0.125 -0.125 -0.125 -0.125  0.125  0.125  0.125  0.125\n",
            "  0.125  0.125  0.125  0.125 -0.125 -0.125 -0.125 -0.125 -0.125 -0.125\n",
            " -0.125 -0.125  0.125  0.125  0.125  0.125  0.125  0.125  0.125  0.125\n",
            " -0.125 -0.125 -0.125 -0.125 -0.125 -0.125 -0.125 -0.125  0.125  0.125\n",
            "  0.125  0.125  0.125  0.125  0.125  0.125 -0.125 -0.125 -0.125 -0.125\n",
            " -0.125 -0.125 -0.125 -0.125]\n",
            "[ 0.125 -0.125  0.125 -0.125  0.125 -0.125  0.125 -0.125 -0.125  0.125\n",
            " -0.125  0.125 -0.125  0.125 -0.125  0.125  0.125 -0.125  0.125 -0.125\n",
            "  0.125 -0.125  0.125 -0.125 -0.125  0.125 -0.125  0.125 -0.125  0.125\n",
            " -0.125  0.125  0.125 -0.125  0.125 -0.125  0.125 -0.125  0.125 -0.125\n",
            " -0.125  0.125 -0.125  0.125 -0.125  0.125 -0.125  0.125  0.125 -0.125\n",
            "  0.125 -0.125  0.125 -0.125  0.125 -0.125 -0.125  0.125 -0.125  0.125\n",
            " -0.125  0.125 -0.125  0.125]\n",
            "[ 0.125  0.125 -0.125 -0.125  0.125  0.125 -0.125 -0.125 -0.125 -0.125\n",
            "  0.125  0.125 -0.125 -0.125  0.125  0.125  0.125  0.125 -0.125 -0.125\n",
            "  0.125  0.125 -0.125 -0.125 -0.125 -0.125  0.125  0.125 -0.125 -0.125\n",
            "  0.125  0.125  0.125  0.125 -0.125 -0.125  0.125  0.125 -0.125 -0.125\n",
            " -0.125 -0.125  0.125  0.125 -0.125 -0.125  0.125  0.125  0.125  0.125\n",
            " -0.125 -0.125  0.125  0.125 -0.125 -0.125 -0.125 -0.125  0.125  0.125\n",
            " -0.125 -0.125  0.125  0.125]\n",
            "[ 0.125 -0.125 -0.125  0.125  0.125 -0.125 -0.125  0.125 -0.125  0.125\n",
            "  0.125 -0.125 -0.125  0.125  0.125 -0.125  0.125 -0.125 -0.125  0.125\n",
            "  0.125 -0.125 -0.125  0.125 -0.125  0.125  0.125 -0.125 -0.125  0.125\n",
            "  0.125 -0.125  0.125 -0.125 -0.125  0.125  0.125 -0.125 -0.125  0.125\n",
            " -0.125  0.125  0.125 -0.125 -0.125  0.125  0.125 -0.125  0.125 -0.125\n",
            " -0.125  0.125  0.125 -0.125 -0.125  0.125 -0.125  0.125  0.125 -0.125\n",
            " -0.125  0.125  0.125 -0.125]\n",
            "[ 0.125  0.125  0.125  0.125 -0.125 -0.125 -0.125 -0.125 -0.125 -0.125\n",
            " -0.125 -0.125  0.125  0.125  0.125  0.125  0.125  0.125  0.125  0.125\n",
            " -0.125 -0.125 -0.125 -0.125 -0.125 -0.125 -0.125 -0.125  0.125  0.125\n",
            "  0.125  0.125  0.125  0.125  0.125  0.125 -0.125 -0.125 -0.125 -0.125\n",
            " -0.125 -0.125 -0.125 -0.125  0.125  0.125  0.125  0.125  0.125  0.125\n",
            "  0.125  0.125 -0.125 -0.125 -0.125 -0.125 -0.125 -0.125 -0.125 -0.125\n",
            "  0.125  0.125  0.125  0.125]\n",
            "[ 0.125 -0.125  0.125 -0.125 -0.125  0.125 -0.125  0.125 -0.125  0.125\n",
            " -0.125  0.125  0.125 -0.125  0.125 -0.125  0.125 -0.125  0.125 -0.125\n",
            " -0.125  0.125 -0.125  0.125 -0.125  0.125 -0.125  0.125  0.125 -0.125\n",
            "  0.125 -0.125  0.125 -0.125  0.125 -0.125 -0.125  0.125 -0.125  0.125\n",
            " -0.125  0.125 -0.125  0.125  0.125 -0.125  0.125 -0.125  0.125 -0.125\n",
            "  0.125 -0.125 -0.125  0.125 -0.125  0.125 -0.125  0.125 -0.125  0.125\n",
            "  0.125 -0.125  0.125 -0.125]\n",
            "[ 0.125  0.125 -0.125 -0.125 -0.125 -0.125  0.125  0.125 -0.125 -0.125\n",
            "  0.125  0.125  0.125  0.125 -0.125 -0.125  0.125  0.125 -0.125 -0.125\n",
            " -0.125 -0.125  0.125  0.125 -0.125 -0.125  0.125  0.125  0.125  0.125\n",
            " -0.125 -0.125  0.125  0.125 -0.125 -0.125 -0.125 -0.125  0.125  0.125\n",
            " -0.125 -0.125  0.125  0.125  0.125  0.125 -0.125 -0.125  0.125  0.125\n",
            " -0.125 -0.125 -0.125 -0.125  0.125  0.125 -0.125 -0.125  0.125  0.125\n",
            "  0.125  0.125 -0.125 -0.125]\n",
            "[ 0.125 -0.125 -0.125  0.125 -0.125  0.125  0.125 -0.125 -0.125  0.125\n",
            "  0.125 -0.125  0.125 -0.125 -0.125  0.125  0.125 -0.125 -0.125  0.125\n",
            " -0.125  0.125  0.125 -0.125 -0.125  0.125  0.125 -0.125  0.125 -0.125\n",
            " -0.125  0.125  0.125 -0.125 -0.125  0.125 -0.125  0.125  0.125 -0.125\n",
            " -0.125  0.125  0.125 -0.125  0.125 -0.125 -0.125  0.125  0.125 -0.125\n",
            " -0.125  0.125 -0.125  0.125  0.125 -0.125 -0.125  0.125  0.125 -0.125\n",
            "  0.125 -0.125 -0.125  0.125]\n",
            "[ 0.125  0.125  0.125  0.125  0.125  0.125  0.125  0.125  0.125  0.125\n",
            "  0.125  0.125  0.125  0.125  0.125  0.125 -0.125 -0.125 -0.125 -0.125\n",
            " -0.125 -0.125 -0.125 -0.125 -0.125 -0.125 -0.125 -0.125 -0.125 -0.125\n",
            " -0.125 -0.125  0.125  0.125  0.125  0.125  0.125  0.125  0.125  0.125\n",
            "  0.125  0.125  0.125  0.125  0.125  0.125  0.125  0.125 -0.125 -0.125\n",
            " -0.125 -0.125 -0.125 -0.125 -0.125 -0.125 -0.125 -0.125 -0.125 -0.125\n",
            " -0.125 -0.125 -0.125 -0.125]\n",
            "[ 0.125 -0.125  0.125 -0.125  0.125 -0.125  0.125 -0.125  0.125 -0.125\n",
            "  0.125 -0.125  0.125 -0.125  0.125 -0.125 -0.125  0.125 -0.125  0.125\n",
            " -0.125  0.125 -0.125  0.125 -0.125  0.125 -0.125  0.125 -0.125  0.125\n",
            " -0.125  0.125  0.125 -0.125  0.125 -0.125  0.125 -0.125  0.125 -0.125\n",
            "  0.125 -0.125  0.125 -0.125  0.125 -0.125  0.125 -0.125 -0.125  0.125\n",
            " -0.125  0.125 -0.125  0.125 -0.125  0.125 -0.125  0.125 -0.125  0.125\n",
            " -0.125  0.125 -0.125  0.125]\n",
            "[ 0.125  0.125 -0.125 -0.125  0.125  0.125 -0.125 -0.125  0.125  0.125\n",
            " -0.125 -0.125  0.125  0.125 -0.125 -0.125 -0.125 -0.125  0.125  0.125\n",
            " -0.125 -0.125  0.125  0.125 -0.125 -0.125  0.125  0.125 -0.125 -0.125\n",
            "  0.125  0.125  0.125  0.125 -0.125 -0.125  0.125  0.125 -0.125 -0.125\n",
            "  0.125  0.125 -0.125 -0.125  0.125  0.125 -0.125 -0.125 -0.125 -0.125\n",
            "  0.125  0.125 -0.125 -0.125  0.125  0.125 -0.125 -0.125  0.125  0.125\n",
            " -0.125 -0.125  0.125  0.125]\n",
            "[ 0.125 -0.125 -0.125  0.125  0.125 -0.125 -0.125  0.125  0.125 -0.125\n",
            " -0.125  0.125  0.125 -0.125 -0.125  0.125 -0.125  0.125  0.125 -0.125\n",
            " -0.125  0.125  0.125 -0.125 -0.125  0.125  0.125 -0.125 -0.125  0.125\n",
            "  0.125 -0.125  0.125 -0.125 -0.125  0.125  0.125 -0.125 -0.125  0.125\n",
            "  0.125 -0.125 -0.125  0.125  0.125 -0.125 -0.125  0.125 -0.125  0.125\n",
            "  0.125 -0.125 -0.125  0.125  0.125 -0.125 -0.125  0.125  0.125 -0.125\n",
            " -0.125  0.125  0.125 -0.125]\n",
            "[ 0.125  0.125  0.125  0.125 -0.125 -0.125 -0.125 -0.125  0.125  0.125\n",
            "  0.125  0.125 -0.125 -0.125 -0.125 -0.125 -0.125 -0.125 -0.125 -0.125\n",
            "  0.125  0.125  0.125  0.125 -0.125 -0.125 -0.125 -0.125  0.125  0.125\n",
            "  0.125  0.125  0.125  0.125  0.125  0.125 -0.125 -0.125 -0.125 -0.125\n",
            "  0.125  0.125  0.125  0.125 -0.125 -0.125 -0.125 -0.125 -0.125 -0.125\n",
            " -0.125 -0.125  0.125  0.125  0.125  0.125 -0.125 -0.125 -0.125 -0.125\n",
            "  0.125  0.125  0.125  0.125]\n",
            "[ 0.125 -0.125  0.125 -0.125 -0.125  0.125 -0.125  0.125  0.125 -0.125\n",
            "  0.125 -0.125 -0.125  0.125 -0.125  0.125 -0.125  0.125 -0.125  0.125\n",
            "  0.125 -0.125  0.125 -0.125 -0.125  0.125 -0.125  0.125  0.125 -0.125\n",
            "  0.125 -0.125  0.125 -0.125  0.125 -0.125 -0.125  0.125 -0.125  0.125\n",
            "  0.125 -0.125  0.125 -0.125 -0.125  0.125 -0.125  0.125 -0.125  0.125\n",
            " -0.125  0.125  0.125 -0.125  0.125 -0.125 -0.125  0.125 -0.125  0.125\n",
            "  0.125 -0.125  0.125 -0.125]\n",
            "[ 0.125  0.125 -0.125 -0.125 -0.125 -0.125  0.125  0.125  0.125  0.125\n",
            " -0.125 -0.125 -0.125 -0.125  0.125  0.125 -0.125 -0.125  0.125  0.125\n",
            "  0.125  0.125 -0.125 -0.125 -0.125 -0.125  0.125  0.125  0.125  0.125\n",
            " -0.125 -0.125  0.125  0.125 -0.125 -0.125 -0.125 -0.125  0.125  0.125\n",
            "  0.125  0.125 -0.125 -0.125 -0.125 -0.125  0.125  0.125 -0.125 -0.125\n",
            "  0.125  0.125  0.125  0.125 -0.125 -0.125 -0.125 -0.125  0.125  0.125\n",
            "  0.125  0.125 -0.125 -0.125]\n",
            "[ 0.125 -0.125 -0.125  0.125 -0.125  0.125  0.125 -0.125  0.125 -0.125\n",
            " -0.125  0.125 -0.125  0.125  0.125 -0.125 -0.125  0.125  0.125 -0.125\n",
            "  0.125 -0.125 -0.125  0.125 -0.125  0.125  0.125 -0.125  0.125 -0.125\n",
            " -0.125  0.125  0.125 -0.125 -0.125  0.125 -0.125  0.125  0.125 -0.125\n",
            "  0.125 -0.125 -0.125  0.125 -0.125  0.125  0.125 -0.125 -0.125  0.125\n",
            "  0.125 -0.125  0.125 -0.125 -0.125  0.125 -0.125  0.125  0.125 -0.125\n",
            "  0.125 -0.125 -0.125  0.125]\n",
            "[ 0.125  0.125  0.125  0.125  0.125  0.125  0.125  0.125 -0.125 -0.125\n",
            " -0.125 -0.125 -0.125 -0.125 -0.125 -0.125 -0.125 -0.125 -0.125 -0.125\n",
            " -0.125 -0.125 -0.125 -0.125  0.125  0.125  0.125  0.125  0.125  0.125\n",
            "  0.125  0.125  0.125  0.125  0.125  0.125  0.125  0.125  0.125  0.125\n",
            " -0.125 -0.125 -0.125 -0.125 -0.125 -0.125 -0.125 -0.125 -0.125 -0.125\n",
            " -0.125 -0.125 -0.125 -0.125 -0.125 -0.125  0.125  0.125  0.125  0.125\n",
            "  0.125  0.125  0.125  0.125]\n",
            "[ 0.125 -0.125  0.125 -0.125  0.125 -0.125  0.125 -0.125 -0.125  0.125\n",
            " -0.125  0.125 -0.125  0.125 -0.125  0.125 -0.125  0.125 -0.125  0.125\n",
            " -0.125  0.125 -0.125  0.125  0.125 -0.125  0.125 -0.125  0.125 -0.125\n",
            "  0.125 -0.125  0.125 -0.125  0.125 -0.125  0.125 -0.125  0.125 -0.125\n",
            " -0.125  0.125 -0.125  0.125 -0.125  0.125 -0.125  0.125 -0.125  0.125\n",
            " -0.125  0.125 -0.125  0.125 -0.125  0.125  0.125 -0.125  0.125 -0.125\n",
            "  0.125 -0.125  0.125 -0.125]\n",
            "[ 0.125  0.125 -0.125 -0.125  0.125  0.125 -0.125 -0.125 -0.125 -0.125\n",
            "  0.125  0.125 -0.125 -0.125  0.125  0.125 -0.125 -0.125  0.125  0.125\n",
            " -0.125 -0.125  0.125  0.125  0.125  0.125 -0.125 -0.125  0.125  0.125\n",
            " -0.125 -0.125  0.125  0.125 -0.125 -0.125  0.125  0.125 -0.125 -0.125\n",
            " -0.125 -0.125  0.125  0.125 -0.125 -0.125  0.125  0.125 -0.125 -0.125\n",
            "  0.125  0.125 -0.125 -0.125  0.125  0.125  0.125  0.125 -0.125 -0.125\n",
            "  0.125  0.125 -0.125 -0.125]\n",
            "[ 0.125 -0.125 -0.125  0.125  0.125 -0.125 -0.125  0.125 -0.125  0.125\n",
            "  0.125 -0.125 -0.125  0.125  0.125 -0.125 -0.125  0.125  0.125 -0.125\n",
            " -0.125  0.125  0.125 -0.125  0.125 -0.125 -0.125  0.125  0.125 -0.125\n",
            " -0.125  0.125  0.125 -0.125 -0.125  0.125  0.125 -0.125 -0.125  0.125\n",
            " -0.125  0.125  0.125 -0.125 -0.125  0.125  0.125 -0.125 -0.125  0.125\n",
            "  0.125 -0.125 -0.125  0.125  0.125 -0.125  0.125 -0.125 -0.125  0.125\n",
            "  0.125 -0.125 -0.125  0.125]\n",
            "[ 0.125  0.125  0.125  0.125 -0.125 -0.125 -0.125 -0.125 -0.125 -0.125\n",
            " -0.125 -0.125  0.125  0.125  0.125  0.125 -0.125 -0.125 -0.125 -0.125\n",
            "  0.125  0.125  0.125  0.125  0.125  0.125  0.125  0.125 -0.125 -0.125\n",
            " -0.125 -0.125  0.125  0.125  0.125  0.125 -0.125 -0.125 -0.125 -0.125\n",
            " -0.125 -0.125 -0.125 -0.125  0.125  0.125  0.125  0.125 -0.125 -0.125\n",
            " -0.125 -0.125  0.125  0.125  0.125  0.125  0.125  0.125  0.125  0.125\n",
            " -0.125 -0.125 -0.125 -0.125]\n",
            "[ 0.125 -0.125  0.125 -0.125 -0.125  0.125 -0.125  0.125 -0.125  0.125\n",
            " -0.125  0.125  0.125 -0.125  0.125 -0.125 -0.125  0.125 -0.125  0.125\n",
            "  0.125 -0.125  0.125 -0.125  0.125 -0.125  0.125 -0.125 -0.125  0.125\n",
            " -0.125  0.125  0.125 -0.125  0.125 -0.125 -0.125  0.125 -0.125  0.125\n",
            " -0.125  0.125 -0.125  0.125  0.125 -0.125  0.125 -0.125 -0.125  0.125\n",
            " -0.125  0.125  0.125 -0.125  0.125 -0.125  0.125 -0.125  0.125 -0.125\n",
            " -0.125  0.125 -0.125  0.125]\n",
            "[ 0.125  0.125 -0.125 -0.125 -0.125 -0.125  0.125  0.125 -0.125 -0.125\n",
            "  0.125  0.125  0.125  0.125 -0.125 -0.125 -0.125 -0.125  0.125  0.125\n",
            "  0.125  0.125 -0.125 -0.125  0.125  0.125 -0.125 -0.125 -0.125 -0.125\n",
            "  0.125  0.125  0.125  0.125 -0.125 -0.125 -0.125 -0.125  0.125  0.125\n",
            " -0.125 -0.125  0.125  0.125  0.125  0.125 -0.125 -0.125 -0.125 -0.125\n",
            "  0.125  0.125  0.125  0.125 -0.125 -0.125  0.125  0.125 -0.125 -0.125\n",
            " -0.125 -0.125  0.125  0.125]\n",
            "[ 0.125 -0.125 -0.125  0.125 -0.125  0.125  0.125 -0.125 -0.125  0.125\n",
            "  0.125 -0.125  0.125 -0.125 -0.125  0.125 -0.125  0.125  0.125 -0.125\n",
            "  0.125 -0.125 -0.125  0.125  0.125 -0.125 -0.125  0.125 -0.125  0.125\n",
            "  0.125 -0.125  0.125 -0.125 -0.125  0.125 -0.125  0.125  0.125 -0.125\n",
            " -0.125  0.125  0.125 -0.125  0.125 -0.125 -0.125  0.125 -0.125  0.125\n",
            "  0.125 -0.125  0.125 -0.125 -0.125  0.125  0.125 -0.125 -0.125  0.125\n",
            " -0.125  0.125  0.125 -0.125]\n",
            "[ 0.125  0.125  0.125  0.125  0.125  0.125  0.125  0.125  0.125  0.125\n",
            "  0.125  0.125  0.125  0.125  0.125  0.125  0.125  0.125  0.125  0.125\n",
            "  0.125  0.125  0.125  0.125  0.125  0.125  0.125  0.125  0.125  0.125\n",
            "  0.125  0.125 -0.125 -0.125 -0.125 -0.125 -0.125 -0.125 -0.125 -0.125\n",
            " -0.125 -0.125 -0.125 -0.125 -0.125 -0.125 -0.125 -0.125 -0.125 -0.125\n",
            " -0.125 -0.125 -0.125 -0.125 -0.125 -0.125 -0.125 -0.125 -0.125 -0.125\n",
            " -0.125 -0.125 -0.125 -0.125]\n",
            "[ 0.125 -0.125  0.125 -0.125  0.125 -0.125  0.125 -0.125  0.125 -0.125\n",
            "  0.125 -0.125  0.125 -0.125  0.125 -0.125  0.125 -0.125  0.125 -0.125\n",
            "  0.125 -0.125  0.125 -0.125  0.125 -0.125  0.125 -0.125  0.125 -0.125\n",
            "  0.125 -0.125 -0.125  0.125 -0.125  0.125 -0.125  0.125 -0.125  0.125\n",
            " -0.125  0.125 -0.125  0.125 -0.125  0.125 -0.125  0.125 -0.125  0.125\n",
            " -0.125  0.125 -0.125  0.125 -0.125  0.125 -0.125  0.125 -0.125  0.125\n",
            " -0.125  0.125 -0.125  0.125]\n",
            "[ 0.125  0.125 -0.125 -0.125  0.125  0.125 -0.125 -0.125  0.125  0.125\n",
            " -0.125 -0.125  0.125  0.125 -0.125 -0.125  0.125  0.125 -0.125 -0.125\n",
            "  0.125  0.125 -0.125 -0.125  0.125  0.125 -0.125 -0.125  0.125  0.125\n",
            " -0.125 -0.125 -0.125 -0.125  0.125  0.125 -0.125 -0.125  0.125  0.125\n",
            " -0.125 -0.125  0.125  0.125 -0.125 -0.125  0.125  0.125 -0.125 -0.125\n",
            "  0.125  0.125 -0.125 -0.125  0.125  0.125 -0.125 -0.125  0.125  0.125\n",
            " -0.125 -0.125  0.125  0.125]\n",
            "[ 0.125 -0.125 -0.125  0.125  0.125 -0.125 -0.125  0.125  0.125 -0.125\n",
            " -0.125  0.125  0.125 -0.125 -0.125  0.125  0.125 -0.125 -0.125  0.125\n",
            "  0.125 -0.125 -0.125  0.125  0.125 -0.125 -0.125  0.125  0.125 -0.125\n",
            " -0.125  0.125 -0.125  0.125  0.125 -0.125 -0.125  0.125  0.125 -0.125\n",
            " -0.125  0.125  0.125 -0.125 -0.125  0.125  0.125 -0.125 -0.125  0.125\n",
            "  0.125 -0.125 -0.125  0.125  0.125 -0.125 -0.125  0.125  0.125 -0.125\n",
            " -0.125  0.125  0.125 -0.125]\n",
            "[ 0.125  0.125  0.125  0.125 -0.125 -0.125 -0.125 -0.125  0.125  0.125\n",
            "  0.125  0.125 -0.125 -0.125 -0.125 -0.125  0.125  0.125  0.125  0.125\n",
            " -0.125 -0.125 -0.125 -0.125  0.125  0.125  0.125  0.125 -0.125 -0.125\n",
            " -0.125 -0.125 -0.125 -0.125 -0.125 -0.125  0.125  0.125  0.125  0.125\n",
            " -0.125 -0.125 -0.125 -0.125  0.125  0.125  0.125  0.125 -0.125 -0.125\n",
            " -0.125 -0.125  0.125  0.125  0.125  0.125 -0.125 -0.125 -0.125 -0.125\n",
            "  0.125  0.125  0.125  0.125]\n",
            "[ 0.125 -0.125  0.125 -0.125 -0.125  0.125 -0.125  0.125  0.125 -0.125\n",
            "  0.125 -0.125 -0.125  0.125 -0.125  0.125  0.125 -0.125  0.125 -0.125\n",
            " -0.125  0.125 -0.125  0.125  0.125 -0.125  0.125 -0.125 -0.125  0.125\n",
            " -0.125  0.125 -0.125  0.125 -0.125  0.125  0.125 -0.125  0.125 -0.125\n",
            " -0.125  0.125 -0.125  0.125  0.125 -0.125  0.125 -0.125 -0.125  0.125\n",
            " -0.125  0.125  0.125 -0.125  0.125 -0.125 -0.125  0.125 -0.125  0.125\n",
            "  0.125 -0.125  0.125 -0.125]\n",
            "[ 0.125  0.125 -0.125 -0.125 -0.125 -0.125  0.125  0.125  0.125  0.125\n",
            " -0.125 -0.125 -0.125 -0.125  0.125  0.125  0.125  0.125 -0.125 -0.125\n",
            " -0.125 -0.125  0.125  0.125  0.125  0.125 -0.125 -0.125 -0.125 -0.125\n",
            "  0.125  0.125 -0.125 -0.125  0.125  0.125  0.125  0.125 -0.125 -0.125\n",
            " -0.125 -0.125  0.125  0.125  0.125  0.125 -0.125 -0.125 -0.125 -0.125\n",
            "  0.125  0.125  0.125  0.125 -0.125 -0.125 -0.125 -0.125  0.125  0.125\n",
            "  0.125  0.125 -0.125 -0.125]\n",
            "[ 0.125 -0.125 -0.125  0.125 -0.125  0.125  0.125 -0.125  0.125 -0.125\n",
            " -0.125  0.125 -0.125  0.125  0.125 -0.125  0.125 -0.125 -0.125  0.125\n",
            " -0.125  0.125  0.125 -0.125  0.125 -0.125 -0.125  0.125 -0.125  0.125\n",
            "  0.125 -0.125 -0.125  0.125  0.125 -0.125  0.125 -0.125 -0.125  0.125\n",
            " -0.125  0.125  0.125 -0.125  0.125 -0.125 -0.125  0.125 -0.125  0.125\n",
            "  0.125 -0.125  0.125 -0.125 -0.125  0.125 -0.125  0.125  0.125 -0.125\n",
            "  0.125 -0.125 -0.125  0.125]\n",
            "[ 0.125  0.125  0.125  0.125  0.125  0.125  0.125  0.125 -0.125 -0.125\n",
            " -0.125 -0.125 -0.125 -0.125 -0.125 -0.125  0.125  0.125  0.125  0.125\n",
            "  0.125  0.125  0.125  0.125 -0.125 -0.125 -0.125 -0.125 -0.125 -0.125\n",
            " -0.125 -0.125 -0.125 -0.125 -0.125 -0.125 -0.125 -0.125 -0.125 -0.125\n",
            "  0.125  0.125  0.125  0.125  0.125  0.125  0.125  0.125 -0.125 -0.125\n",
            " -0.125 -0.125 -0.125 -0.125 -0.125 -0.125  0.125  0.125  0.125  0.125\n",
            "  0.125  0.125  0.125  0.125]\n",
            "[ 0.125 -0.125  0.125 -0.125  0.125 -0.125  0.125 -0.125 -0.125  0.125\n",
            " -0.125  0.125 -0.125  0.125 -0.125  0.125  0.125 -0.125  0.125 -0.125\n",
            "  0.125 -0.125  0.125 -0.125 -0.125  0.125 -0.125  0.125 -0.125  0.125\n",
            " -0.125  0.125 -0.125  0.125 -0.125  0.125 -0.125  0.125 -0.125  0.125\n",
            "  0.125 -0.125  0.125 -0.125  0.125 -0.125  0.125 -0.125 -0.125  0.125\n",
            " -0.125  0.125 -0.125  0.125 -0.125  0.125  0.125 -0.125  0.125 -0.125\n",
            "  0.125 -0.125  0.125 -0.125]\n",
            "[ 0.125  0.125 -0.125 -0.125  0.125  0.125 -0.125 -0.125 -0.125 -0.125\n",
            "  0.125  0.125 -0.125 -0.125  0.125  0.125  0.125  0.125 -0.125 -0.125\n",
            "  0.125  0.125 -0.125 -0.125 -0.125 -0.125  0.125  0.125 -0.125 -0.125\n",
            "  0.125  0.125 -0.125 -0.125  0.125  0.125 -0.125 -0.125  0.125  0.125\n",
            "  0.125  0.125 -0.125 -0.125  0.125  0.125 -0.125 -0.125 -0.125 -0.125\n",
            "  0.125  0.125 -0.125 -0.125  0.125  0.125  0.125  0.125 -0.125 -0.125\n",
            "  0.125  0.125 -0.125 -0.125]\n",
            "[ 0.125 -0.125 -0.125  0.125  0.125 -0.125 -0.125  0.125 -0.125  0.125\n",
            "  0.125 -0.125 -0.125  0.125  0.125 -0.125  0.125 -0.125 -0.125  0.125\n",
            "  0.125 -0.125 -0.125  0.125 -0.125  0.125  0.125 -0.125 -0.125  0.125\n",
            "  0.125 -0.125 -0.125  0.125  0.125 -0.125 -0.125  0.125  0.125 -0.125\n",
            "  0.125 -0.125 -0.125  0.125  0.125 -0.125 -0.125  0.125 -0.125  0.125\n",
            "  0.125 -0.125 -0.125  0.125  0.125 -0.125  0.125 -0.125 -0.125  0.125\n",
            "  0.125 -0.125 -0.125  0.125]\n",
            "[ 0.125  0.125  0.125  0.125 -0.125 -0.125 -0.125 -0.125 -0.125 -0.125\n",
            " -0.125 -0.125  0.125  0.125  0.125  0.125  0.125  0.125  0.125  0.125\n",
            " -0.125 -0.125 -0.125 -0.125 -0.125 -0.125 -0.125 -0.125  0.125  0.125\n",
            "  0.125  0.125 -0.125 -0.125 -0.125 -0.125  0.125  0.125  0.125  0.125\n",
            "  0.125  0.125  0.125  0.125 -0.125 -0.125 -0.125 -0.125 -0.125 -0.125\n",
            " -0.125 -0.125  0.125  0.125  0.125  0.125  0.125  0.125  0.125  0.125\n",
            " -0.125 -0.125 -0.125 -0.125]\n",
            "[ 0.125 -0.125  0.125 -0.125 -0.125  0.125 -0.125  0.125 -0.125  0.125\n",
            " -0.125  0.125  0.125 -0.125  0.125 -0.125  0.125 -0.125  0.125 -0.125\n",
            " -0.125  0.125 -0.125  0.125 -0.125  0.125 -0.125  0.125  0.125 -0.125\n",
            "  0.125 -0.125 -0.125  0.125 -0.125  0.125  0.125 -0.125  0.125 -0.125\n",
            "  0.125 -0.125  0.125 -0.125 -0.125  0.125 -0.125  0.125 -0.125  0.125\n",
            " -0.125  0.125  0.125 -0.125  0.125 -0.125  0.125 -0.125  0.125 -0.125\n",
            " -0.125  0.125 -0.125  0.125]\n",
            "[ 0.125  0.125 -0.125 -0.125 -0.125 -0.125  0.125  0.125 -0.125 -0.125\n",
            "  0.125  0.125  0.125  0.125 -0.125 -0.125  0.125  0.125 -0.125 -0.125\n",
            " -0.125 -0.125  0.125  0.125 -0.125 -0.125  0.125  0.125  0.125  0.125\n",
            " -0.125 -0.125 -0.125 -0.125  0.125  0.125  0.125  0.125 -0.125 -0.125\n",
            "  0.125  0.125 -0.125 -0.125 -0.125 -0.125  0.125  0.125 -0.125 -0.125\n",
            "  0.125  0.125  0.125  0.125 -0.125 -0.125  0.125  0.125 -0.125 -0.125\n",
            " -0.125 -0.125  0.125  0.125]\n",
            "[ 0.125 -0.125 -0.125  0.125 -0.125  0.125  0.125 -0.125 -0.125  0.125\n",
            "  0.125 -0.125  0.125 -0.125 -0.125  0.125  0.125 -0.125 -0.125  0.125\n",
            " -0.125  0.125  0.125 -0.125 -0.125  0.125  0.125 -0.125  0.125 -0.125\n",
            " -0.125  0.125 -0.125  0.125  0.125 -0.125  0.125 -0.125 -0.125  0.125\n",
            "  0.125 -0.125 -0.125  0.125 -0.125  0.125  0.125 -0.125 -0.125  0.125\n",
            "  0.125 -0.125  0.125 -0.125 -0.125  0.125  0.125 -0.125 -0.125  0.125\n",
            " -0.125  0.125  0.125 -0.125]\n",
            "[ 0.125  0.125  0.125  0.125  0.125  0.125  0.125  0.125  0.125  0.125\n",
            "  0.125  0.125  0.125  0.125  0.125  0.125 -0.125 -0.125 -0.125 -0.125\n",
            " -0.125 -0.125 -0.125 -0.125 -0.125 -0.125 -0.125 -0.125 -0.125 -0.125\n",
            " -0.125 -0.125 -0.125 -0.125 -0.125 -0.125 -0.125 -0.125 -0.125 -0.125\n",
            " -0.125 -0.125 -0.125 -0.125 -0.125 -0.125 -0.125 -0.125  0.125  0.125\n",
            "  0.125  0.125  0.125  0.125  0.125  0.125  0.125  0.125  0.125  0.125\n",
            "  0.125  0.125  0.125  0.125]\n",
            "[ 0.125 -0.125  0.125 -0.125  0.125 -0.125  0.125 -0.125  0.125 -0.125\n",
            "  0.125 -0.125  0.125 -0.125  0.125 -0.125 -0.125  0.125 -0.125  0.125\n",
            " -0.125  0.125 -0.125  0.125 -0.125  0.125 -0.125  0.125 -0.125  0.125\n",
            " -0.125  0.125 -0.125  0.125 -0.125  0.125 -0.125  0.125 -0.125  0.125\n",
            " -0.125  0.125 -0.125  0.125 -0.125  0.125 -0.125  0.125  0.125 -0.125\n",
            "  0.125 -0.125  0.125 -0.125  0.125 -0.125  0.125 -0.125  0.125 -0.125\n",
            "  0.125 -0.125  0.125 -0.125]\n",
            "[ 0.125  0.125 -0.125 -0.125  0.125  0.125 -0.125 -0.125  0.125  0.125\n",
            " -0.125 -0.125  0.125  0.125 -0.125 -0.125 -0.125 -0.125  0.125  0.125\n",
            " -0.125 -0.125  0.125  0.125 -0.125 -0.125  0.125  0.125 -0.125 -0.125\n",
            "  0.125  0.125 -0.125 -0.125  0.125  0.125 -0.125 -0.125  0.125  0.125\n",
            " -0.125 -0.125  0.125  0.125 -0.125 -0.125  0.125  0.125  0.125  0.125\n",
            " -0.125 -0.125  0.125  0.125 -0.125 -0.125  0.125  0.125 -0.125 -0.125\n",
            "  0.125  0.125 -0.125 -0.125]\n",
            "[ 0.125 -0.125 -0.125  0.125  0.125 -0.125 -0.125  0.125  0.125 -0.125\n",
            " -0.125  0.125  0.125 -0.125 -0.125  0.125 -0.125  0.125  0.125 -0.125\n",
            " -0.125  0.125  0.125 -0.125 -0.125  0.125  0.125 -0.125 -0.125  0.125\n",
            "  0.125 -0.125 -0.125  0.125  0.125 -0.125 -0.125  0.125  0.125 -0.125\n",
            " -0.125  0.125  0.125 -0.125 -0.125  0.125  0.125 -0.125  0.125 -0.125\n",
            " -0.125  0.125  0.125 -0.125 -0.125  0.125  0.125 -0.125 -0.125  0.125\n",
            "  0.125 -0.125 -0.125  0.125]\n",
            "[ 0.125  0.125  0.125  0.125 -0.125 -0.125 -0.125 -0.125  0.125  0.125\n",
            "  0.125  0.125 -0.125 -0.125 -0.125 -0.125 -0.125 -0.125 -0.125 -0.125\n",
            "  0.125  0.125  0.125  0.125 -0.125 -0.125 -0.125 -0.125  0.125  0.125\n",
            "  0.125  0.125 -0.125 -0.125 -0.125 -0.125  0.125  0.125  0.125  0.125\n",
            " -0.125 -0.125 -0.125 -0.125  0.125  0.125  0.125  0.125  0.125  0.125\n",
            "  0.125  0.125 -0.125 -0.125 -0.125 -0.125  0.125  0.125  0.125  0.125\n",
            " -0.125 -0.125 -0.125 -0.125]\n",
            "[ 0.125 -0.125  0.125 -0.125 -0.125  0.125 -0.125  0.125  0.125 -0.125\n",
            "  0.125 -0.125 -0.125  0.125 -0.125  0.125 -0.125  0.125 -0.125  0.125\n",
            "  0.125 -0.125  0.125 -0.125 -0.125  0.125 -0.125  0.125  0.125 -0.125\n",
            "  0.125 -0.125 -0.125  0.125 -0.125  0.125  0.125 -0.125  0.125 -0.125\n",
            " -0.125  0.125 -0.125  0.125  0.125 -0.125  0.125 -0.125  0.125 -0.125\n",
            "  0.125 -0.125 -0.125  0.125 -0.125  0.125  0.125 -0.125  0.125 -0.125\n",
            " -0.125  0.125 -0.125  0.125]\n",
            "[ 0.125  0.125 -0.125 -0.125 -0.125 -0.125  0.125  0.125  0.125  0.125\n",
            " -0.125 -0.125 -0.125 -0.125  0.125  0.125 -0.125 -0.125  0.125  0.125\n",
            "  0.125  0.125 -0.125 -0.125 -0.125 -0.125  0.125  0.125  0.125  0.125\n",
            " -0.125 -0.125 -0.125 -0.125  0.125  0.125  0.125  0.125 -0.125 -0.125\n",
            " -0.125 -0.125  0.125  0.125  0.125  0.125 -0.125 -0.125  0.125  0.125\n",
            " -0.125 -0.125 -0.125 -0.125  0.125  0.125  0.125  0.125 -0.125 -0.125\n",
            " -0.125 -0.125  0.125  0.125]\n",
            "[ 0.125 -0.125 -0.125  0.125 -0.125  0.125  0.125 -0.125  0.125 -0.125\n",
            " -0.125  0.125 -0.125  0.125  0.125 -0.125 -0.125  0.125  0.125 -0.125\n",
            "  0.125 -0.125 -0.125  0.125 -0.125  0.125  0.125 -0.125  0.125 -0.125\n",
            " -0.125  0.125 -0.125  0.125  0.125 -0.125  0.125 -0.125 -0.125  0.125\n",
            " -0.125  0.125  0.125 -0.125  0.125 -0.125 -0.125  0.125  0.125 -0.125\n",
            " -0.125  0.125 -0.125  0.125  0.125 -0.125  0.125 -0.125 -0.125  0.125\n",
            " -0.125  0.125  0.125 -0.125]\n",
            "[ 0.125  0.125  0.125  0.125  0.125  0.125  0.125  0.125 -0.125 -0.125\n",
            " -0.125 -0.125 -0.125 -0.125 -0.125 -0.125 -0.125 -0.125 -0.125 -0.125\n",
            " -0.125 -0.125 -0.125 -0.125  0.125  0.125  0.125  0.125  0.125  0.125\n",
            "  0.125  0.125 -0.125 -0.125 -0.125 -0.125 -0.125 -0.125 -0.125 -0.125\n",
            "  0.125  0.125  0.125  0.125  0.125  0.125  0.125  0.125  0.125  0.125\n",
            "  0.125  0.125  0.125  0.125  0.125  0.125 -0.125 -0.125 -0.125 -0.125\n",
            " -0.125 -0.125 -0.125 -0.125]\n",
            "[ 0.125 -0.125  0.125 -0.125  0.125 -0.125  0.125 -0.125 -0.125  0.125\n",
            " -0.125  0.125 -0.125  0.125 -0.125  0.125 -0.125  0.125 -0.125  0.125\n",
            " -0.125  0.125 -0.125  0.125  0.125 -0.125  0.125 -0.125  0.125 -0.125\n",
            "  0.125 -0.125 -0.125  0.125 -0.125  0.125 -0.125  0.125 -0.125  0.125\n",
            "  0.125 -0.125  0.125 -0.125  0.125 -0.125  0.125 -0.125  0.125 -0.125\n",
            "  0.125 -0.125  0.125 -0.125  0.125 -0.125 -0.125  0.125 -0.125  0.125\n",
            " -0.125  0.125 -0.125  0.125]\n",
            "[ 0.125  0.125 -0.125 -0.125  0.125  0.125 -0.125 -0.125 -0.125 -0.125\n",
            "  0.125  0.125 -0.125 -0.125  0.125  0.125 -0.125 -0.125  0.125  0.125\n",
            " -0.125 -0.125  0.125  0.125  0.125  0.125 -0.125 -0.125  0.125  0.125\n",
            " -0.125 -0.125 -0.125 -0.125  0.125  0.125 -0.125 -0.125  0.125  0.125\n",
            "  0.125  0.125 -0.125 -0.125  0.125  0.125 -0.125 -0.125  0.125  0.125\n",
            " -0.125 -0.125  0.125  0.125 -0.125 -0.125 -0.125 -0.125  0.125  0.125\n",
            " -0.125 -0.125  0.125  0.125]\n",
            "[ 0.125 -0.125 -0.125  0.125  0.125 -0.125 -0.125  0.125 -0.125  0.125\n",
            "  0.125 -0.125 -0.125  0.125  0.125 -0.125 -0.125  0.125  0.125 -0.125\n",
            " -0.125  0.125  0.125 -0.125  0.125 -0.125 -0.125  0.125  0.125 -0.125\n",
            " -0.125  0.125 -0.125  0.125  0.125 -0.125 -0.125  0.125  0.125 -0.125\n",
            "  0.125 -0.125 -0.125  0.125  0.125 -0.125 -0.125  0.125  0.125 -0.125\n",
            " -0.125  0.125  0.125 -0.125 -0.125  0.125 -0.125  0.125  0.125 -0.125\n",
            " -0.125  0.125  0.125 -0.125]\n",
            "[ 0.125  0.125  0.125  0.125 -0.125 -0.125 -0.125 -0.125 -0.125 -0.125\n",
            " -0.125 -0.125  0.125  0.125  0.125  0.125 -0.125 -0.125 -0.125 -0.125\n",
            "  0.125  0.125  0.125  0.125  0.125  0.125  0.125  0.125 -0.125 -0.125\n",
            " -0.125 -0.125 -0.125 -0.125 -0.125 -0.125  0.125  0.125  0.125  0.125\n",
            "  0.125  0.125  0.125  0.125 -0.125 -0.125 -0.125 -0.125  0.125  0.125\n",
            "  0.125  0.125 -0.125 -0.125 -0.125 -0.125 -0.125 -0.125 -0.125 -0.125\n",
            "  0.125  0.125  0.125  0.125]\n",
            "[ 0.125 -0.125  0.125 -0.125 -0.125  0.125 -0.125  0.125 -0.125  0.125\n",
            " -0.125  0.125  0.125 -0.125  0.125 -0.125 -0.125  0.125 -0.125  0.125\n",
            "  0.125 -0.125  0.125 -0.125  0.125 -0.125  0.125 -0.125 -0.125  0.125\n",
            " -0.125  0.125 -0.125  0.125 -0.125  0.125  0.125 -0.125  0.125 -0.125\n",
            "  0.125 -0.125  0.125 -0.125 -0.125  0.125 -0.125  0.125  0.125 -0.125\n",
            "  0.125 -0.125 -0.125  0.125 -0.125  0.125 -0.125  0.125 -0.125  0.125\n",
            "  0.125 -0.125  0.125 -0.125]\n",
            "[ 0.125  0.125 -0.125 -0.125 -0.125 -0.125  0.125  0.125 -0.125 -0.125\n",
            "  0.125  0.125  0.125  0.125 -0.125 -0.125 -0.125 -0.125  0.125  0.125\n",
            "  0.125  0.125 -0.125 -0.125  0.125  0.125 -0.125 -0.125 -0.125 -0.125\n",
            "  0.125  0.125 -0.125 -0.125  0.125  0.125  0.125  0.125 -0.125 -0.125\n",
            "  0.125  0.125 -0.125 -0.125 -0.125 -0.125  0.125  0.125  0.125  0.125\n",
            " -0.125 -0.125 -0.125 -0.125  0.125  0.125 -0.125 -0.125  0.125  0.125\n",
            "  0.125  0.125 -0.125 -0.125]\n",
            "[ 0.125 -0.125 -0.125  0.125 -0.125  0.125  0.125 -0.125 -0.125  0.125\n",
            "  0.125 -0.125  0.125 -0.125 -0.125  0.125 -0.125  0.125  0.125 -0.125\n",
            "  0.125 -0.125 -0.125  0.125  0.125 -0.125 -0.125  0.125 -0.125  0.125\n",
            "  0.125 -0.125 -0.125  0.125  0.125 -0.125  0.125 -0.125 -0.125  0.125\n",
            "  0.125 -0.125 -0.125  0.125 -0.125  0.125  0.125 -0.125  0.125 -0.125\n",
            " -0.125  0.125 -0.125  0.125  0.125 -0.125 -0.125  0.125  0.125 -0.125\n",
            "  0.125 -0.125 -0.125  0.125]\n"
          ]
        }
      ]
    },
    {
      "cell_type": "code",
      "source": [
        "H_normalized = H / np.linalg.norm(H,axis=1)\n",
        "print(H_normalized)"
      ],
      "metadata": {
        "colab": {
          "base_uri": "https://localhost:8080/"
        },
        "id": "SwZvmTPwHKZ4",
        "outputId": "22971acd-fd82-47fe-bcd2-bd25660a8dd0"
      },
      "execution_count": null,
      "outputs": [
        {
          "output_type": "stream",
          "name": "stdout",
          "text": [
            "[[ 0.125  0.125  0.125 ...  0.125  0.125  0.125]\n",
            " [ 0.125 -0.125  0.125 ... -0.125  0.125 -0.125]\n",
            " [ 0.125  0.125 -0.125 ...  0.125 -0.125 -0.125]\n",
            " ...\n",
            " [ 0.125 -0.125  0.125 ... -0.125  0.125 -0.125]\n",
            " [ 0.125  0.125 -0.125 ...  0.125 -0.125 -0.125]\n",
            " [ 0.125 -0.125 -0.125 ... -0.125 -0.125  0.125]]\n"
          ]
        }
      ]
    },
    {
      "cell_type": "markdown",
      "source": [
        "---\n",
        "\n",
        "**Question-1.8**: Print the $l_2$ norms of the columns of the normalized version of $H.$ What do you observe?\n",
        "\n",
        "---"
      ],
      "metadata": {
        "id": "TVqPngrZZZoH"
      }
    },
    {
      "cell_type": "code",
      "source": [
        "np.linalg.norm(H_normalized, axis = 1)"
      ],
      "metadata": {
        "id": "mqptLFkgZfzC",
        "colab": {
          "base_uri": "https://localhost:8080/"
        },
        "outputId": "77f90755-817b-4c37-f112-321e3730bf93"
      },
      "execution_count": null,
      "outputs": [
        {
          "output_type": "execute_result",
          "data": {
            "text/plain": [
              "array([1., 1., 1., 1., 1., 1., 1., 1., 1., 1., 1., 1., 1., 1., 1., 1., 1.,\n",
              "       1., 1., 1., 1., 1., 1., 1., 1., 1., 1., 1., 1., 1., 1., 1., 1., 1.,\n",
              "       1., 1., 1., 1., 1., 1., 1., 1., 1., 1., 1., 1., 1., 1., 1., 1., 1.,\n",
              "       1., 1., 1., 1., 1., 1., 1., 1., 1., 1., 1., 1., 1.])"
            ]
          },
          "metadata": {},
          "execution_count": 69
        }
      ]
    },
    {
      "cell_type": "markdown",
      "source": [
        "all entries of the vector matrix become 1"
      ],
      "metadata": {
        "id": "og--2FBOIh3Q"
      }
    },
    {
      "cell_type": "markdown",
      "source": [
        "---\n",
        "\n",
        "**Question-1.9**: Calculate the scalar projections (shadow lengths) of vector $a$ projected on to the columns of the normalized version of $H$ and store them in a vector $u.$\n",
        "\n",
        "---"
      ],
      "metadata": {
        "id": "Y1vkuZ7YZjlG"
      }
    },
    {
      "cell_type": "code",
      "source": [
        "u = np.dot(a, H_normalized)"
      ],
      "metadata": {
        "id": "R48fsauHZptI"
      },
      "execution_count": null,
      "outputs": []
    },
    {
      "cell_type": "code",
      "source": [
        "u"
      ],
      "metadata": {
        "colab": {
          "base_uri": "https://localhost:8080/"
        },
        "id": "2fr7ujahdj0c",
        "outputId": "a103cb8c-2b3e-48c3-b1b6-7e7936db48cc"
      },
      "execution_count": null,
      "outputs": [
        {
          "output_type": "execute_result",
          "data": {
            "text/plain": [
              "array([ 0.78258605, -0.39761764, -1.43552352,  0.08361823, -0.93799037,\n",
              "       -1.92960602,  2.45816214,  1.20118852, -0.27279265,  2.05913487,\n",
              "       -0.08219573, -1.37979716, -2.35605393,  0.39620317, -0.01083405,\n",
              "        0.01051313, -0.43881131, -0.23972718, -1.18623333, -1.45362195,\n",
              "       -0.40779417,  0.13881235, -1.39455503, -1.5096043 ,  0.81497631,\n",
              "        1.33818101, -0.17099812, -0.25023698,  0.52750036,  0.13881163,\n",
              "        2.07121029, -0.25285368,  1.40414593, -0.71771843, -1.3051002 ,\n",
              "        0.31449161, -0.69117553, -1.64363573,  1.73627078, -0.14434671,\n",
              "       -0.73735324, -1.15293942, -0.85007957, -0.16774212, -0.96953615,\n",
              "        0.02091445, -0.85581021, -1.71523579,  0.94085491, -0.13826639,\n",
              "       -0.04671607,  1.96422268, -0.38100654, -0.76378645,  1.58722618,\n",
              "        1.38089608, -1.21779396, -1.497908  , -1.37497415, -0.00924616,\n",
              "       -1.00218523, -0.34453442,  1.5381198 , -1.43298457])"
            ]
          },
          "metadata": {},
          "execution_count": 94
        }
      ]
    },
    {
      "cell_type": "code",
      "source": [
        "u = np.dot(H_normalized.T, a)\n",
        "u"
      ],
      "metadata": {
        "colab": {
          "base_uri": "https://localhost:8080/"
        },
        "id": "xHujjOPSibTk",
        "outputId": "431cfb32-547b-428d-df5e-eaca436e8dbd"
      },
      "execution_count": null,
      "outputs": [
        {
          "output_type": "execute_result",
          "data": {
            "text/plain": [
              "array([ 0.78258605, -0.39761764, -1.43552352,  0.08361823, -0.93799037,\n",
              "       -1.92960602,  2.45816214,  1.20118852, -0.27279265,  2.05913487,\n",
              "       -0.08219573, -1.37979716, -2.35605393,  0.39620317, -0.01083405,\n",
              "        0.01051313, -0.43881131, -0.23972718, -1.18623333, -1.45362195,\n",
              "       -0.40779417,  0.13881235, -1.39455503, -1.5096043 ,  0.81497631,\n",
              "        1.33818101, -0.17099812, -0.25023698,  0.52750036,  0.13881163,\n",
              "        2.07121029, -0.25285368,  1.40414593, -0.71771843, -1.3051002 ,\n",
              "        0.31449161, -0.69117553, -1.64363573,  1.73627078, -0.14434671,\n",
              "       -0.73735324, -1.15293942, -0.85007957, -0.16774212, -0.96953615,\n",
              "        0.02091445, -0.85581021, -1.71523579,  0.94085491, -0.13826639,\n",
              "       -0.04671607,  1.96422268, -0.38100654, -0.76378645,  1.58722618,\n",
              "        1.38089608, -1.21779396, -1.497908  , -1.37497415, -0.00924616,\n",
              "       -1.00218523, -0.34453442,  1.5381198 , -1.43298457])"
            ]
          },
          "metadata": {},
          "execution_count": 96
        }
      ]
    },
    {
      "cell_type": "markdown",
      "source": [
        "---\n",
        "\n",
        "**Question-1.10**: Make a component plot of $a$ and $u$ in two figures. Use different colors for the vectors.\n",
        "\n",
        "---"
      ],
      "metadata": {
        "id": "-SJVm2OgZ1rz"
      }
    },
    {
      "cell_type": "code",
      "source": [
        "fig, (ax1, ax2) = plt.subplots(2, 1, figsize = (6,4))\n",
        "fig.tight_layout(pad = 4.0)\n",
        "plotveccomp(a, 'a', 'black', '*', ax1)\n",
        "plotveccomp(u, 'u', 'red', '*', ax2)"
      ],
      "metadata": {
        "id": "gXYWUViDZyh8",
        "colab": {
          "base_uri": "https://localhost:8080/",
          "height": 360
        },
        "outputId": "4dd23df6-e4ee-4468-b6b2-9cb886dc639d"
      },
      "execution_count": null,
      "outputs": [
        {
          "output_type": "display_data",
          "data": {
            "text/plain": [
              "<Figure size 600x400 with 2 Axes>"
            ],
            "image/png": "[encoded data removed]"
          },
          "metadata": {}
        }
      ]
    },
    {
      "cell_type": "markdown",
      "source": [
        "---\n",
        "\n",
        "**Question-1.11**: What percentage of components of $u$ are within 1 standard deviation from the mean? What do you observe from the result?\n",
        "\n",
        "---"
      ],
      "metadata": {
        "id": "LUYD28P8aFYC"
      }
    },
    {
      "cell_type": "code",
      "source": [
        "(np.mean(abs(u-np.mean(u)) <= 1*np.std(u)))*100"
      ],
      "metadata": {
        "id": "5unhHLnjaMSg",
        "colab": {
          "base_uri": "https://localhost:8080/"
        },
        "outputId": "095cafab-9df4-4304-d4c4-5ef7674334d6"
      },
      "execution_count": null,
      "outputs": [
        {
          "output_type": "execute_result",
          "data": {
            "text/plain": [
              "60.9375"
            ]
          },
          "metadata": {},
          "execution_count": 72
        }
      ]
    },
    {
      "cell_type": "markdown",
      "source": [
        "It follows empirical formula of normal distribution"
      ],
      "metadata": {
        "id": "T3eHA2TsbMAM"
      }
    },
    {
      "cell_type": "markdown",
      "metadata": {
        "id": "xrIxhNDFQlOT"
      },
      "source": [
        "---\n",
        "\n",
        "**Question-2**: Consider the following model for opinion formation among $n$ individuals, each of whom interact with a certain number of individuals in the group. The numerical value of the $i$th person's opinion is denoted as $x_i.$ The value of $x_i$ is influenced by the following:\n",
        "* The $i$th person's self opinion denoted as\n",
        "$s_i$\n",
        "* The opinions of the remaining individuals $x_j,$ where $j=1,2,\\ldots,n$ and $j\\neq i.$  \n",
        "\n",
        "Assuming that the $i$th person gives a weightage $w_{ij}$ to the $j$th person's opinion, we can compute $x_i$ as follows:\n",
        "$$x_i = \\dfrac{s_i+\\sum_{j\\neq i}w_{ij}x_j}{1+\\sum_{j\\neq i}w_{ij}},\\quad i=1,\\ldots,n.$$\n",
        "It is clear that the weightage that a person gives to his own opinion is taken to be $1$ as seen in the denominator of the equation above.\n",
        "\n",
        "The equation above can be written as $(A+I)x=s,$ where $A$ is an $n\\times n$-matrix and $I$ represents the identity matrix.\n",
        "\n",
        "The code snippet below simulates the $n\\times n$-matrix $W$ representing the weights and the $n$-vector $s$ representing the self opinions for some topic of interest. Just run the cell. Note that $W$ is a *sparse matrix* with most of its entries equal to zero; that is, each individual interacts only with a few others.\n",
        "\n",
        "---"
      ]
    },
    {
      "cell_type": "code",
      "metadata": {
        "id": "hNuokxPU2Bci"
      },
      "source": [
        "# Simulating a social network weight matrix and self-opinion vector\n",
        "np.random.seed(1)\n",
        "rs = 2023\n",
        "n = 100\n",
        "rvs = stats.norm(0, 0.3).rvs\n",
        "W = random(n, n, density = 0.2, random_state = rs, data_rvs = rvs).A\n",
        "# Each individual gives the highest weight (= 1) to her-/himself\n",
        "np.fill_diagonal(W, 1)\n",
        "W = np.where(W > 1, 1, W)\n",
        "W = np.where(W < -1, -1, W)\n",
        "s = stats.norm(0, 4).rvs(size = n)\n",
        "s = MinMaxScaler((-10, 10)).fit_transform(s.reshape(-1, 1)).flatten()"
      ],
      "execution_count": null,
      "outputs": []
    },
    {
      "cell_type": "markdown",
      "metadata": {
        "id": "3XEFsUv0TEvL"
      },
      "source": [
        "---\n",
        "\n",
        "**Question-2.1**: The self opinion values range from -10 to 10 indicating a very negative and a very positive opinion, respectively, about the topic of interest. Does the average self opinion value indicate a positive, negative, or neutral opinion about the topic?\n",
        "\n",
        "---"
      ]
    },
    {
      "cell_type": "code",
      "metadata": {
        "id": "Aysf-cGYtG9_",
        "colab": {
          "base_uri": "https://localhost:8080/"
        },
        "outputId": "e261f54b-1918-417c-9580-ba5236f392e3"
      },
      "source": [
        "avg = np.mean(s)"
      ],
      "execution_count": null,
      "outputs": [
        {
          "output_type": "stream",
          "name": "stdout",
          "text": [
            "negative\n"
          ]
        }
      ]
    },
    {
      "cell_type": "code",
      "source": [
        "avg"
      ],
      "metadata": {
        "colab": {
          "base_uri": "https://localhost:8080/"
        },
        "id": "sV2Lkb_ZisJU",
        "outputId": "2a19f95c-8fc3-4084-beca-1f94dfd6d686"
      },
      "execution_count": null,
      "outputs": [
        {
          "output_type": "execute_result",
          "data": {
            "text/plain": [
              "-0.13326690030952676"
            ]
          },
          "metadata": {},
          "execution_count": 97
        }
      ]
    },
    {
      "cell_type": "markdown",
      "metadata": {
        "id": "gqUU6wIiTyyc"
      },
      "source": [
        "---\n",
        "\n",
        "**Question-2.2**: Make a component plot of the self opinion vector $s$.\n",
        "\n",
        "---"
      ]
    },
    {
      "cell_type": "code",
      "metadata": {
        "id": "mT_3gQp2pwQr",
        "colab": {
          "base_uri": "https://localhost:8080/",
          "height": 360
        },
        "outputId": "ff3b6435-79f2-4634-9b05-f9965bdbc19e"
      },
      "source": [
        "fig, ax = plt.subplots(1, 1, figsize = (6,4))\n",
        "fig.tight_layout(pad = 4.0)\n",
        "plotveccomp(s, 's', 'black', '*', ax)"
      ],
      "execution_count": null,
      "outputs": [
        {
          "output_type": "display_data",
          "data": {
            "text/plain": [
              "<Figure size 600x400 with 1 Axes>"
            ],
            "image/png": "[encoded data removed]"
          },
          "metadata": {}
        }
      ]
    },
    {
      "cell_type": "markdown",
      "metadata": {
        "id": "j6hYSl6TUM6c"
      },
      "source": [
        "---\n",
        "\n",
        "**Question-2.3**: Suppose we consider self opinion values beyond 2 standard deviations from the mean as being extreme. What percentage of individuals have extreme opinions about the topic of interest?\n",
        "\n",
        "---"
      ]
    },
    {
      "cell_type": "code",
      "metadata": {
        "id": "-c41leLtqllR",
        "colab": {
          "base_uri": "https://localhost:8080/"
        },
        "outputId": "8b18f6ef-f4e6-4afe-8837-53fd7818e753"
      },
      "source": [
        "(np.mean(abs(u-np.mean(u)) >= 2*np.std(u)))*100"
      ],
      "execution_count": null,
      "outputs": [
        {
          "output_type": "execute_result",
          "data": {
            "text/plain": [
              "4.6875"
            ]
          },
          "metadata": {},
          "execution_count": 76
        }
      ]
    },
    {
      "cell_type": "markdown",
      "metadata": {
        "id": "ydjUMW_AVIMJ"
      },
      "source": [
        "---\n",
        "\n",
        "**Question-2.4**: Construct the matrix $A$ and the identity matrix $I$ in the code snippet below.\n",
        "\n",
        "---"
      ]
    },
    {
      "cell_type": "code",
      "source": [
        "A = np.zeros((n, n))\n",
        "for i in np.arange(n):\n",
        "  A[i, i] = np.sum(W[i, :]) - W[i,i]\n",
        "  for j in np.arange(n):\n",
        "    if j != i:\n",
        "      A[i, j] = -W[i, j]\n",
        "I = np.identity(n)"
      ],
      "metadata": {
        "id": "0MRzFMhwO31v"
      },
      "execution_count": null,
      "outputs": []
    },
    {
      "cell_type": "markdown",
      "metadata": {
        "id": "p2nPCpDtVyUF"
      },
      "source": [
        "---\n",
        "\n",
        "**Question-2.5**: Solve the system of equations $(A+I)x = s.$\n",
        "\n",
        "---"
      ]
    },
    {
      "cell_type": "code",
      "source": [
        "solution = linalg.lstsq(A+I, s)\n",
        "x = solution[0]"
      ],
      "metadata": {
        "id": "qxEqGa5iSEgF"
      },
      "execution_count": null,
      "outputs": []
    },
    {
      "cell_type": "code",
      "source": [
        "s = np.dot((A+I),x)"
      ],
      "metadata": {
        "id": "f0kot-lXQnS2"
      },
      "execution_count": null,
      "outputs": []
    },
    {
      "cell_type": "markdown",
      "metadata": {
        "id": "NLp5SHKAWL3S"
      },
      "source": [
        "---\n",
        "\n",
        "**Question-2.6**: Does the average of the opinion values calculated above indicates a positive, negative, or neutral opinion about the topic?\n",
        "\n",
        "---"
      ]
    },
    {
      "cell_type": "code",
      "metadata": {
        "id": "q3xJdEUR6sPl",
        "colab": {
          "base_uri": "https://localhost:8080/"
        },
        "outputId": "66c906bb-a2b6-441c-9410-019653bd6879"
      },
      "source": [
        "avg = np.mean(x)"
      ],
      "execution_count": null,
      "outputs": [
        {
          "output_type": "stream",
          "name": "stdout",
          "text": [
            "negative\n"
          ]
        }
      ]
    },
    {
      "cell_type": "code",
      "source": [
        "avg"
      ],
      "metadata": {
        "colab": {
          "base_uri": "https://localhost:8080/"
        },
        "id": "O3hKQ-bCi0pM",
        "outputId": "b68e56ee-dda1-4a4f-cbbf-ca33119d639a"
      },
      "execution_count": null,
      "outputs": [
        {
          "output_type": "execute_result",
          "data": {
            "text/plain": [
              "-1.9666086135775658"
            ]
          },
          "metadata": {},
          "execution_count": 100
        }
      ]
    },
    {
      "cell_type": "markdown",
      "metadata": {
        "id": "O7M21YALYuc4"
      },
      "source": [
        "---\n",
        "\n",
        "**Question-2.7**: Using the opinion values computed above, calculate the percentage of individuals have extreme opinions about the topic of interest?\n",
        "\n",
        "---"
      ]
    },
    {
      "cell_type": "code",
      "metadata": {
        "id": "Qnj9afILamga",
        "colab": {
          "base_uri": "https://localhost:8080/"
        },
        "outputId": "91e1be5c-4bde-49e3-d0fc-3a4fac522bde"
      },
      "source": [
        "(np.mean(abs(s-np.mean(s)) >= 2*np.std(s)))*100"
      ],
      "execution_count": null,
      "outputs": [
        {
          "output_type": "execute_result",
          "data": {
            "text/plain": [
              "4.0"
            ]
          },
          "metadata": {},
          "execution_count": 82
        }
      ]
    },
    {
      "cell_type": "code",
      "source": [],
      "metadata": {
        "id": "IYVHvnXKdIFI"
      },
      "execution_count": null,
      "outputs": []
    }
  ]
}