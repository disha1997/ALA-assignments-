{
  "cells": [
    {
      "cell_type": "code",
      "execution_count": null,
      "metadata": {
        "id": "BZLeh7V3Pfha"
      },
      "outputs": [],
      "source": [
        "import numpy as np\n",
        "import matplotlib.pyplot as plt"
      ]
    },
    {
      "cell_type": "markdown",
      "metadata": {
        "id": "PX9OpV6RaEtr"
      },
      "source": [
        "Problem-1: A network consists of $n$ stations, labeled $1,\\ldots,n.$ A path through the network is a subset of the stations. This data can be represented as an $N\\times n$-matrix $P$, where $$P_{ij} =\\begin{cases}1,& \\text{if station } j \\text{ is on path } i,\\\\0,&\\text{otherwise}.\\end{cases}$$ The code snippet below simulates the matrix $P$ for $10$ stations and $100$ paths."
      ]
    },
    {
      "cell_type": "code",
      "execution_count": null,
      "metadata": {
        "id": "qQ4o9NxBBWdX",
        "outputId": "8bd82bcb-d391-4912-8eb7-58095601f6d4"
      },
      "outputs": [
        {
          "data": {
            "text/plain": [
              "array([[1, 1, 0, 0, 1, 1, 1, 1, 1, 0],\n",
              "       [0, 1, 0, 1, 1, 0, 0, 1, 0, 0],\n",
              "       [0, 1, 0, 0, 1, 0, 0, 0, 1, 0],\n",
              "       [0, 0, 1, 1, 1, 1, 1, 0, 0, 0],\n",
              "       [1, 1, 1, 1, 1, 1, 0, 1, 1, 0],\n",
              "       [0, 1, 0, 0, 1, 1, 1, 0, 1, 0],\n",
              "       [0, 1, 1, 0, 1, 1, 1, 1, 0, 0],\n",
              "       [1, 1, 0, 0, 0, 0, 1, 1, 1, 0],\n",
              "       [1, 0, 0, 1, 1, 0, 1, 1, 0, 1],\n",
              "       [0, 0, 1, 1, 1, 0, 1, 1, 0, 1],\n",
              "       [1, 1, 1, 0, 0, 0, 0, 0, 1, 1],\n",
              "       [1, 1, 1, 1, 1, 0, 0, 0, 0, 0],\n",
              "       [0, 1, 1, 1, 1, 1, 1, 0, 0, 1],\n",
              "       [1, 0, 0, 1, 0, 0, 0, 1, 1, 1],\n",
              "       [1, 1, 0, 1, 0, 1, 0, 0, 0, 1],\n",
              "       [1, 1, 0, 1, 0, 0, 0, 0, 1, 0],\n",
              "       [1, 0, 1, 1, 1, 0, 0, 0, 0, 0],\n",
              "       [0, 1, 0, 0, 1, 0, 0, 1, 1, 0],\n",
              "       [0, 0, 1, 0, 0, 0, 0, 1, 0, 0],\n",
              "       [0, 0, 1, 1, 0, 0, 1, 1, 1, 0],\n",
              "       [0, 0, 0, 0, 1, 1, 1, 0, 1, 1],\n",
              "       [0, 0, 0, 1, 1, 0, 1, 1, 1, 0],\n",
              "       [1, 1, 1, 1, 0, 1, 0, 0, 1, 0],\n",
              "       [1, 0, 1, 1, 0, 1, 1, 0, 1, 1],\n",
              "       [1, 0, 1, 0, 1, 0, 1, 1, 1, 1],\n",
              "       [1, 1, 0, 0, 1, 1, 0, 0, 0, 1],\n",
              "       [1, 0, 0, 0, 0, 0, 1, 1, 1, 1],\n",
              "       [1, 1, 1, 0, 0, 1, 0, 0, 0, 1],\n",
              "       [0, 1, 0, 1, 0, 0, 0, 0, 1, 1],\n",
              "       [0, 0, 0, 1, 0, 1, 1, 0, 0, 1],\n",
              "       [0, 1, 0, 0, 0, 1, 0, 1, 0, 1],\n",
              "       [1, 1, 0, 1, 0, 1, 1, 1, 1, 0],\n",
              "       [0, 1, 0, 0, 0, 0, 1, 1, 0, 1],\n",
              "       [1, 0, 0, 1, 1, 1, 1, 1, 1, 1],\n",
              "       [0, 0, 0, 0, 0, 0, 0, 1, 0, 0],\n",
              "       [0, 0, 0, 1, 1, 1, 1, 0, 0, 0],\n",
              "       [1, 0, 1, 0, 1, 0, 0, 0, 0, 0],\n",
              "       [0, 1, 0, 0, 0, 1, 0, 1, 1, 0],\n",
              "       [0, 1, 1, 0, 1, 0, 1, 0, 1, 1],\n",
              "       [0, 0, 1, 0, 0, 0, 0, 0, 1, 1],\n",
              "       [0, 0, 1, 1, 1, 1, 0, 1, 0, 1],\n",
              "       [0, 0, 1, 0, 1, 0, 1, 0, 0, 0],\n",
              "       [0, 1, 0, 0, 1, 1, 1, 1, 1, 0],\n",
              "       [0, 0, 1, 0, 1, 1, 0, 1, 1, 0],\n",
              "       [0, 1, 1, 0, 1, 1, 1, 1, 0, 1],\n",
              "       [0, 0, 0, 0, 0, 1, 0, 0, 0, 0],\n",
              "       [1, 0, 0, 1, 0, 1, 1, 0, 1, 0],\n",
              "       [1, 0, 1, 0, 0, 0, 0, 1, 0, 1],\n",
              "       [1, 1, 1, 1, 0, 1, 0, 1, 0, 0],\n",
              "       [0, 0, 1, 1, 0, 0, 0, 0, 1, 0],\n",
              "       [0, 1, 1, 1, 1, 0, 1, 1, 0, 1],\n",
              "       [0, 0, 1, 0, 0, 0, 1, 1, 1, 1],\n",
              "       [0, 0, 0, 0, 1, 0, 1, 1, 0, 0],\n",
              "       [1, 1, 0, 1, 1, 0, 0, 0, 0, 1],\n",
              "       [0, 0, 0, 0, 1, 0, 1, 0, 0, 1],\n",
              "       [1, 1, 0, 0, 1, 0, 0, 0, 0, 0],\n",
              "       [1, 1, 1, 1, 1, 0, 0, 1, 1, 0],\n",
              "       [0, 0, 0, 1, 0, 0, 0, 1, 0, 1],\n",
              "       [0, 0, 0, 0, 1, 0, 0, 1, 1, 0],\n",
              "       [1, 1, 1, 1, 1, 0, 0, 0, 0, 0],\n",
              "       [0, 0, 0, 1, 0, 0, 0, 1, 0, 1],\n",
              "       [0, 1, 0, 0, 1, 1, 1, 1, 1, 1],\n",
              "       [0, 0, 0, 1, 0, 0, 1, 0, 1, 1],\n",
              "       [0, 0, 0, 1, 1, 0, 1, 1, 0, 0],\n",
              "       [0, 0, 1, 0, 0, 1, 0, 0, 0, 0],\n",
              "       [0, 0, 1, 1, 0, 0, 0, 0, 0, 0],\n",
              "       [1, 1, 0, 1, 0, 0, 1, 0, 1, 1],\n",
              "       [1, 0, 0, 0, 1, 1, 1, 1, 1, 0],\n",
              "       [1, 0, 1, 0, 0, 0, 0, 0, 0, 0],\n",
              "       [0, 0, 0, 1, 0, 1, 0, 0, 1, 1],\n",
              "       [0, 0, 1, 1, 1, 0, 1, 1, 0, 1],\n",
              "       [1, 1, 1, 0, 1, 0, 1, 1, 1, 1],\n",
              "       [0, 1, 1, 1, 0, 0, 1, 0, 1, 1],\n",
              "       [0, 0, 1, 0, 0, 0, 0, 0, 0, 1],\n",
              "       [1, 1, 0, 0, 1, 0, 1, 0, 0, 1],\n",
              "       [1, 1, 0, 1, 0, 0, 0, 1, 1, 1],\n",
              "       [1, 0, 1, 0, 1, 0, 0, 0, 0, 1],\n",
              "       [0, 0, 0, 1, 1, 1, 1, 0, 0, 0],\n",
              "       [1, 0, 0, 0, 1, 1, 0, 0, 0, 1],\n",
              "       [1, 0, 1, 1, 1, 1, 1, 1, 0, 1],\n",
              "       [1, 0, 0, 1, 1, 1, 1, 1, 1, 0],\n",
              "       [0, 0, 0, 1, 1, 1, 1, 1, 1, 0],\n",
              "       [0, 1, 1, 1, 0, 0, 1, 1, 0, 0],\n",
              "       [0, 0, 1, 1, 0, 0, 0, 0, 1, 0],\n",
              "       [1, 1, 0, 0, 0, 0, 0, 1, 0, 0],\n",
              "       [1, 0, 0, 0, 1, 0, 1, 0, 0, 0],\n",
              "       [1, 1, 1, 1, 0, 0, 0, 1, 0, 1],\n",
              "       [0, 1, 1, 0, 1, 0, 1, 0, 0, 1],\n",
              "       [1, 0, 1, 0, 0, 1, 0, 0, 1, 0],\n",
              "       [1, 0, 1, 0, 1, 1, 1, 1, 1, 1],\n",
              "       [1, 0, 0, 1, 1, 0, 0, 1, 1, 0],\n",
              "       [1, 1, 1, 0, 0, 0, 1, 0, 1, 1],\n",
              "       [1, 0, 1, 0, 0, 0, 1, 1, 0, 1],\n",
              "       [0, 0, 1, 0, 0, 0, 1, 0, 0, 1],\n",
              "       [0, 1, 1, 1, 0, 1, 0, 0, 0, 1],\n",
              "       [0, 1, 1, 0, 0, 1, 0, 1, 1, 0],\n",
              "       [0, 1, 0, 0, 1, 1, 1, 1, 1, 1],\n",
              "       [1, 1, 0, 1, 1, 0, 1, 1, 1, 0],\n",
              "       [0, 0, 0, 0, 0, 0, 1, 0, 1, 0],\n",
              "       [0, 1, 1, 0, 0, 0, 0, 0, 0, 0]])"
            ]
          },
          "execution_count": 9,
          "metadata": {},
          "output_type": "execute_result"
        }
      ],
      "source": [
        "# Simulating a network tomography matrix\n",
        "np.random.seed(1)\n",
        "npaths = 100\n",
        "nstations = 10\n",
        "P = np.random.choice(np.arange(0,2), (npaths, nstations))\n",
        "P"
      ]
    },
    {
      "cell_type": "markdown",
      "metadata": {
        "id": "niDTcQYnbBs9"
      },
      "source": [
        "**Problem-1.1**: Busy paths have *at least* 7 stations in them? What are the busy paths and how many of them do we have?"
      ]
    },
    {
      "cell_type": "code",
      "execution_count": null,
      "metadata": {
        "id": "q1Veac7Gwgpl",
        "outputId": "046e9d07-bc4b-453f-9f75-142e579b98e5"
      },
      "outputs": [
        {
          "name": "stdout",
          "output_type": "stream",
          "text": [
            "[ 0  4 12 23 24 31 33 44 50 56 61 71 79 80 89 96 97]\n",
            "17\n"
          ]
        }
      ],
      "source": [
        "result = np.where(np.dot(P, np.ones(nstations)) >= 7)\n",
        "print(result[0])\n",
        "print(result[0].shape[0])"
      ]
    },
    {
      "cell_type": "markdown",
      "metadata": {
        "id": "DodtVEZ0bkC4"
      },
      "source": [
        "**Problem-1.2**: Busy stations show up in *at least* 50 paths? What are the busy stations and how many of them do we have?"
      ]
    },
    {
      "cell_type": "markdown",
      "metadata": {
        "id": "LTy1irIJwgpl"
      },
      "source": [
        "So stations that show up on atleast 50 paths are considered as 'busy stations'"
      ]
    },
    {
      "cell_type": "code",
      "execution_count": null,
      "metadata": {
        "id": "tUbj8ZfXwgpl",
        "outputId": "82e981fd-19d7-461c-c649-8e839d767798"
      },
      "outputs": [
        {
          "name": "stdout",
          "output_type": "stream",
          "text": [
            "[4 6 7]\n",
            "3\n"
          ]
        }
      ],
      "source": [
        "result = np.where(np.dot(P.T, np.ones(npaths)) >= 50)\n",
        "print(result[0])\n",
        "print(result[0].shape[0])"
      ]
    },
    {
      "cell_type": "markdown",
      "metadata": {
        "id": "_pUjRy2Lb93a"
      },
      "source": [
        "**Problem-1.3**: Station-1 is *most similar* to which other station?"
      ]
    },
    {
      "cell_type": "code",
      "execution_count": null,
      "metadata": {
        "id": "tCAtZMgGwgpm",
        "outputId": "01fee668-b566-42d7-aa52-f37e92ee62a7"
      },
      "outputs": [
        {
          "data": {
            "text/plain": [
              "(array([0, 3, 7], dtype=int64),)"
            ]
          },
          "execution_count": 14,
          "metadata": {},
          "output_type": "execute_result"
        }
      ],
      "source": [
        "result = [np.sum((P[:, 0] == 1) & (P[:, i] == 1)) for i in range(1,nstations)]\n",
        "np.where(result == np.max(result))"
      ]
    },
    {
      "cell_type": "code",
      "execution_count": null,
      "metadata": {
        "id": "tQr4P_SqH7fP"
      },
      "outputs": [],
      "source": [
        "# result = np.linalg.norm(P[:, 0]-P[:, 1:], axis=0)\n",
        "# print(result)\n",
        "# np.argmin(result)+2"
      ]
    },
    {
      "cell_type": "markdown",
      "metadata": {
        "id": "dd4cpNY-wgpm"
      },
      "source": [
        "Stations 1 is most similar to station 2,5,9 as they both go on same 24 paths"
      ]
    },
    {
      "cell_type": "markdown",
      "metadata": {
        "id": "V2sSq9rJciY_"
      },
      "source": [
        "**Problem-1.4**: Express the number of paths common to each pair of stations as a product of two matrices. How many paths are common to station-4 and station-10?"
      ]
    },
    {
      "cell_type": "code",
      "execution_count": null,
      "metadata": {
        "id": "GPjahfxZJ6AA",
        "outputId": "4dee0e98-ea02-4e3e-859a-ade4200b8d62"
      },
      "outputs": [
        {
          "name": "stdout",
          "output_type": "stream",
          "text": [
            "23\n"
          ]
        }
      ],
      "source": [
        "result = np.dot(P.T, P)\n",
        "print(result[3, 9])"
      ]
    },
    {
      "cell_type": "markdown",
      "metadata": {
        "id": "GZmdtCwldRcD"
      },
      "source": [
        "**Problem-1.5**: Express the number of stations common to each pair of paths as a product of two matrices. How many stations are common to the 1st path and the 100th path? How many stations do we have in the 100th path?"
      ]
    },
    {
      "cell_type": "code",
      "execution_count": null,
      "metadata": {
        "id": "gELCUw7WMHKo",
        "outputId": "bc18eca6-db43-4759-a32f-ad7d86e2217c"
      },
      "outputs": [
        {
          "name": "stdout",
          "output_type": "stream",
          "text": [
            "1\n"
          ]
        },
        {
          "data": {
            "text/plain": [
              "2"
            ]
          },
          "execution_count": 13,
          "metadata": {},
          "output_type": "execute_result"
        }
      ],
      "source": [
        "result = np.dot(P, P.T)\n",
        "print(result[0, 99])\n",
        "result[99,99]"
      ]
    },
    {
      "cell_type": "markdown",
      "metadata": {
        "id": "KK7Sp7A0wgpn"
      },
      "source": [
        "only 1 station is common to 1st and 99th path"
      ]
    },
    {
      "cell_type": "markdown",
      "metadata": {
        "id": "uf6v9HwNwgpn"
      },
      "source": [
        "we have only 2 stations in the 100th path"
      ]
    },
    {
      "cell_type": "markdown",
      "metadata": {
        "id": "wc9quPjuh6cj"
      },
      "source": [
        "**Problem-2**: A *compartmental system* is a model used to describe the movement of some material over time among a set of $n$ compartments of a system and the outside world. It is widely used in pharmaco-kinetics, the study of how the concentration of a drug varies over time in the body. In this application, the material is a drug, and the compartments are the bloodstream, lungs, heart, liver, kidneys, and so on. Compartmental systems are special cases of linear dynamical systems. In this problem we will consider a very simple compartmental system with $3$ compartments. We let $(x_t)_i$ denote the amount of the material (say, a drug) in compartment $i$ at time stamp $t.$ Between time stamps $t$ and $t+1,$ the material moves as follows:\n",
        "\n",
        "* 20% of the material in compartment 1 moves to compartment 2. (This decreases\n",
        "the amount in compartment 1 and increases the amount in compartment 2.)\n",
        "* 5% of the material in compartment 2 moves to compartment 1.\n",
        "* 5% of the material in compartment 2 moves to compartment 3.\n",
        "* 10% of the material in compartment 2 is eliminated.\n",
        "* 5% of the material in compartment 3 moves to compartment 1\n",
        "* 5% of the material in compartment 3 moves to compartment 2.\n",
        "\n",
        "This compartmental system can be modeled as a linear dynamical system, $x_{t+1} = Ax_t,$ where $A$ is the linear dynamics matrix."
      ]
    },
    {
      "cell_type": "markdown",
      "metadata": {
        "id": "M8DInKt5iz1Q"
      },
      "source": [
        "**Problem-2.1**: Construct the linear dynamics matrix $A.$"
      ]
    },
    {
      "cell_type": "code",
      "execution_count": null,
      "metadata": {
        "id": "kr2a_ftNwgpo"
      },
      "outputs": [],
      "source": [
        "# Linear dynamical system matrix\n",
        "A = np.array([\n",
        "    [1 - 0.20, 0.05, 0.05],\n",
        "    [0.20, 1 - 0.05 - 0.05 - 0.10, 0.05],\n",
        "    [0, 0.05, 1 - 0.05 - 0.05]])"
      ]
    },
    {
      "cell_type": "code",
      "execution_count": null,
      "metadata": {
        "id": "9icjHhV_wgpo",
        "outputId": "6ac489af-ebe1-4947-aef7-97ec11912853"
      },
      "outputs": [
        {
          "name": "stdout",
          "output_type": "stream",
          "text": [
            "[[0.8  0.05 0.05]\n",
            " [0.2  0.8  0.05]\n",
            " [0.   0.05 0.9 ]]\n"
          ]
        }
      ],
      "source": [
        "print(A)"
      ]
    },
    {
      "cell_type": "markdown",
      "metadata": {
        "id": "Dc-5koMtqjCn"
      },
      "source": [
        "**Problem-2.2**: Suppose that the initial concentration of the three drugs is 20%, 10%, and 70%, respectively. We want to simulate the linear dynamical system for 200 time stamps."
      ]
    },
    {
      "cell_type": "code",
      "execution_count": null,
      "metadata": {
        "id": "cjXdR3H7wgpo"
      },
      "outputs": [],
      "source": [
        "# Time period\n",
        "T = 200\n",
        "\n",
        "# Initialize the three drug concentration values to zeros for all time stamps\n",
        "X = np.zeros((3, T))\n",
        "\n",
        "# Initial state vector\n",
        "X[:, 0] = np.array([0.20, 0.10, 0.70])\n",
        "\n",
        "# Simulate the linear dynamical system for all time stamps\n",
        "for j in np.arange(1, T):\n",
        "    X[:, j] = np.dot(A, X[:, j-1])"
      ]
    },
    {
      "cell_type": "markdown",
      "metadata": {
        "id": "Sex5KmjjtcUV"
      },
      "source": [
        "**Problem-2.3**: Plot the concentrations of the three drugs for all time stamps. Which drug component shows an initial increase and then a decrease in its concentration? Approximately, at what time stamp does that drug concentration peak? Which drug component shows the least rapid change in the initial time stamps?"
      ]
    },
    {
      "cell_type": "code",
      "execution_count": null,
      "metadata": {
        "id": "Hv7Cj2jowgpo",
        "outputId": "b689039e-7178-4916-b81f-089afb3d9fcd"
      },
      "outputs": [
        {
          "data": {
            "text/plain": [
              "<matplotlib.legend.Legend at 0x23ea1609fd0>"
            ]
          },
          "execution_count": 7,
          "metadata": {},
          "output_type": "execute_result"
        },
        {
          "data": {
            "image/png": "[encoded data removed]",
            "text/plain": [
              "<Figure size 600x600 with 1 Axes>"
            ]
          },
          "metadata": {},
          "output_type": "display_data"
        }
      ],
      "source": [
        "fig, ax = plt.subplots(1, 1, figsize = (6,6))\n",
        "fig.tight_layout(pad = 4.0)\n",
        "ax.plot(X[0, :])\n",
        "ax.plot(X[1, :])\n",
        "ax.plot(X[2, :])\n",
        "plt.legend([\"Drug-1\", \"Drug-2\", \"Drug-3\"], loc =\"upper right\")"
      ]
    },
    {
      "cell_type": "markdown",
      "metadata": {
        "id": "H2Vl8iujwgpp"
      },
      "source": [
        "- Drug 2 shows an initial increase and then decrease in the concentration\n",
        "- Approximately at 25th timestamp, drug 2 reaches it's peak concentration\n",
        "- Drug 1 shows least change compared to others in the initial timestamps"
      ]
    }
  ],
  "metadata": {
    "colab": {
      "provenance": []
    },
    "kernelspec": {
      "display_name": "Python 3",
      "name": "python3"
    },
    "language_info": {
      "codemirror_mode": {
        "name": "ipython",
        "version": 3
      },
      "file_extension": ".py",
      "mimetype": "text/x-python",
      "name": "python",
      "nbconvert_exporter": "python",
      "pygments_lexer": "ipython3",
      "version": "3.11.6"
    }
  },
  "nbformat": 4,
  "nbformat_minor": 0
}